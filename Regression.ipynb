{
 "cells": [
  {
   "cell_type": "markdown",
   "id": "eb4c8ca1-2537-435f-9c0d-d7d8d3000df4",
   "metadata": {},
   "source": [
    "# Regression"
   ]
  },
  {
   "cell_type": "markdown",
   "id": "828056b3-2c36-4513-9977-3367fa3fc78b",
   "metadata": {},
   "source": [
    "Regression is a statistical method used to analyze the relationship between a dependent variable and one or more independent variables. It aims to find the best fitting line (or curve) that describes the relationship between the variables."
   ]
  },
  {
   "cell_type": "markdown",
   "id": "8c54835c-0af7-40b6-adfc-65de8c0b742f",
   "metadata": {},
   "source": [
    "### Linear Regression"
   ]
  },
  {
   "cell_type": "markdown",
   "id": "58f66496-ef3f-4964-9f81-ac8436d6e00b",
   "metadata": {},
   "source": [
    "Linear Regression is a statistical method used to establish a relationship between a dependent variable and one or more independent variables. In the case of simple linear regression, there is only one independent variable, whereas in multiple linear regression, there are multiple independent variables.\n",
    "\n",
    "The objective of linear regression is to find a linear relationship between the dependent variable and the independent variable(s) that can be used to predict the values of the dependent variable for new data points.\n",
    "\n",
    "In a linear regression model, the relationship between the dependent variable and independent variable(s) is represented by a linear equation, where the coefficients of the equation are estimated using a training dataset. Once the coefficients are estimated, the model can be used to predict the values of the dependent variable for new data points.\n",
    "\n"
   ]
  },
  {
   "cell_type": "code",
   "execution_count": 20,
   "id": "c95af655-90c5-4d88-bbf6-eef2c151d4ee",
   "metadata": {},
   "outputs": [
    {
     "data": {
      "image/png": "[encoded data removed]",
      "text/plain": [
       "<Figure size 432x288 with 1 Axes>"
      ]
     },
     "metadata": {
      "needs_background": "light"
     },
     "output_type": "display_data"
    }
   ],
   "source": [
    "import numpy as np\n",
    "import matplotlib.pyplot as plt\n",
    "from sklearn.model_selection import train_test_split\n",
    "from sklearn.linear_model import LinearRegression\n",
    "from sklearn.metrics import mean_squared_error\n",
    "\n",
    "# Generate random data\n",
    "np.random.seed(42)\n",
    "X = np.random.rand(100, 1)\n",
    "y = 2 + 3*X + np.random.randn(100, 1)\n",
    "\n",
    "# Split data into training and testing sets\n",
    "X_train, X_test, y_train, y_test = train_test_split(X, y, test_size=0.2)\n",
    "\n",
    "# Train linear regression model\n",
    "model = LinearRegression()\n",
    "model.fit(X_train, y_train)\n",
    "\n",
    "# Visualize data and regression line\n",
    "plt.scatter(X, y)\n",
    "plt.plot(X, model.predict(X), color='red')\n",
    "plt.show()\n"
   ]
  },
  {
   "cell_type": "markdown",
   "id": "fc9496d5-947e-4f06-b528-e269da5a77b0",
   "metadata": {},
   "source": [
    "Once you have trained a LinearRegression model on your data, you can use it to make predictions on new data. The model will output a predicted value for the dependent variable based on the values of the independent variables."
   ]
  },
  {
   "cell_type": "code",
   "execution_count": 12,
   "id": "e3428a4d-4bf4-4ce2-a3bf-19e1a4abe291",
   "metadata": {},
   "outputs": [
    {
     "name": "stdout",
     "output_type": "stream",
     "text": [
      "Predicted values: [[4.09263268]\n",
      " [2.28858277]\n",
      " [4.32672714]\n",
      " [2.19136093]\n",
      " [3.99251202]\n",
      " [2.31531372]\n",
      " [2.63311638]\n",
      " [2.91929865]\n",
      " [3.33030152]\n",
      " [4.59816157]\n",
      " [2.4376556 ]\n",
      " [4.10247864]\n",
      " [4.17146869]\n",
      " [3.9864253 ]\n",
      " [2.37554319]\n",
      " [2.59778232]\n",
      " [2.52427607]\n",
      " [2.17903682]\n",
      " [4.64226741]\n",
      " [3.71543225]]\n"
     ]
    }
   ],
   "source": [
    "# Make predictions on new data\n",
    "y_pred = model.predict(X_test)\n",
    "print(\"Predicted values:\", y_pred)\n"
   ]
  },
  {
   "cell_type": "code",
   "execution_count": 13,
   "id": "d62dce84-56d1-4d95-95b3-92624fde4007",
   "metadata": {},
   "outputs": [
    {
     "data": {
      "image/png": "[encoded data removed]",
      "text/plain": [
       "<Figure size 432x288 with 1 Axes>"
      ]
     },
     "metadata": {
      "needs_background": "light"
     },
     "output_type": "display_data"
    }
   ],
   "source": [
    "# Plot predicted and true values for test data\n",
    "plt.scatter(X_test, y_test, color='blue', label='True values')\n",
    "plt.scatter(X_test, y_pred, color='red', label='Predicted values')\n",
    "plt.xlabel('X')\n",
    "plt.ylabel('y')\n",
    "plt.title('True vs predicted values')\n",
    "plt.legend()\n",
    "plt.show()"
   ]
  },
  {
   "cell_type": "markdown",
   "id": "d28a2c48-bad1-4c59-b2c9-c784f9ffb39e",
   "metadata": {},
   "source": [
    "To calculate the error between the predicted and test values, you can use a variety of metrics such as mean squared error (MSE), root mean squared error (RMSE), or mean absolute error (MAE). "
   ]
  },
  {
   "cell_type": "code",
   "execution_count": 14,
   "id": "195ae1e9-affd-4d33-92f0-5a912b3394d3",
   "metadata": {},
   "outputs": [
    {
     "name": "stdout",
     "output_type": "stream",
     "text": [
      "Mean squared error: 1.170861925219628\n"
     ]
    }
   ],
   "source": [
    "# Calculate mean squared error\n",
    "mse = mean_squared_error(y_test, y_pred)\n",
    "print(\"Mean squared error:\", mse)"
   ]
  },
  {
   "cell_type": "code",
   "execution_count": 21,
   "id": "223f281b-565b-4455-a3d1-b88c263ba507",
   "metadata": {},
   "outputs": [
    {
     "data": {
      "image/png": "[encoded data removed]",
      "text/plain": [
       "<Figure size 432x288 with 1 Axes>"
      ]
     },
     "metadata": {
      "needs_background": "light"
     },
     "output_type": "display_data"
    }
   ],
   "source": [
    "plt.scatter(y_test, y_pred)\n",
    "plt.xlabel(\"Actual Prices\")\n",
    "plt.ylabel(\"Predicted Prices\")\n",
    "plt.show()"
   ]
  },
  {
   "cell_type": "markdown",
   "id": "b7e4b655-5403-4427-8a6d-e5189e626733",
   "metadata": {},
   "source": [
    "#### Other Evaluation Metrics"
   ]
  },
  {
   "cell_type": "markdown",
   "id": "4f7c9f72-87ff-4a70-b244-bb1a2522f468",
   "metadata": {},
   "source": [
    "R-squared (or the coefficient of determination) is a statistical measure that represents the proportion of the variance in the dependent variable that can be explained by the independent variables in a regression model. It is a value between 0 and 1, with higher values indicating a better fit of the model to the data.\n",
    "\n",
    "More specifically, R-squared is calculated as the ratio of the explained variance to the total variance:\n",
    "\n",
    "R-squared = explained variance / total variance\n",
    "\n",
    "The explained variance is the variance in the dependent variable that is accounted for by the independent variables in the model. The total variance is the variance in the dependent variable that is not accounted for by the model, and represents the variation that is due to factors other than the independent variables.\n",
    "\n",
    "R-squared is an important metric for evaluating the performance of a regression model. A high value of R-squared indicates that the model is able to explain a large proportion of the variation in the dependent variable, which suggests that it is a good fit for the data. However, it is important to note that a high value of R-squared does not necessarily mean that the model is a good predictor of future values, or that the model is free from other problems such as overfitting or multicollinearity. Therefore, it is often used in conjunction with other evaluation metrics to assess the performance of a regression model."
   ]
  },
  {
   "cell_type": "code",
   "execution_count": 15,
   "id": "6bf15bd7-521c-4a8f-a958-ec2b1e5ddcc3",
   "metadata": {},
   "outputs": [
    {
     "name": "stdout",
     "output_type": "stream",
     "text": [
      "R-squared value: 0.3461837802973725\n"
     ]
    }
   ],
   "source": [
    "from sklearn.metrics import mean_squared_error, r2_score\n",
    "\n",
    "# Calculate R-squared value\n",
    "r_squared = r2_score(y_test, y_pred)\n",
    "print(\"R-squared value:\", r_squared)"
   ]
  },
  {
   "cell_type": "markdown",
   "id": "c502ea5a-790d-49c3-b55c-e20f86013559",
   "metadata": {},
   "source": [
    "### Multivariable Regression"
   ]
  },
  {
   "cell_type": "markdown",
   "id": "bf5dfd19-3166-4bb0-bf04-1ba3de89e1aa",
   "metadata": {},
   "source": [
    "Multivariable regression, also known as multiple linear regression, is a type of regression analysis that involves more than one independent variable. It is an extension of simple linear regression, which only considers one independent variable.\n",
    "\n",
    "In multivariable regression, the goal is to find the best linear relationship between a dependent variable and two or more independent variables. The relationship can be represented by the following equation:\n",
    "\n",
    "y = b0 + b1x1 + b2x2 + ... + bn*xn\n",
    "\n",
    "where:\n",
    "\n",
    "y is the dependent variable\n",
    "x1, x2, ..., xn are the independent variables\n",
    "b0, b1, b2, ..., bn are the coefficients of the independent variables\n",
    "\n",
    "The coefficients represent the effect of each independent variable on the dependent variable, while holding all other independent variables constant."
   ]
  },
  {
   "cell_type": "code",
   "execution_count": 16,
   "id": "f61bf380-6acd-4b10-b5c7-176633bc3408",
   "metadata": {},
   "outputs": [
    {
     "data": {
      "image/png": "[encoded data removed]",
      "text/plain": [
       "<Figure size 432x288 with 1 Axes>"
      ]
     },
     "metadata": {
      "needs_background": "light"
     },
     "output_type": "display_data"
    }
   ],
   "source": [
    "import numpy as np\n",
    "import matplotlib.pyplot as plt\n",
    "from mpl_toolkits.mplot3d import Axes3D\n",
    "from sklearn.linear_model import LinearRegression\n",
    "\n",
    "# Generate random data\n",
    "np.random.seed(42)\n",
    "X1 = np.random.rand(100, 1)\n",
    "X2 = np.random.rand(100, 1)\n",
    "y = 2 + 3*X1 + 4*X2 + np.random.randn(100, 1)\n",
    "\n",
    "# Train/test split\n",
    "X = np.hstack((X1, X2))\n",
    "X_train, X_test, y_train, y_test = train_test_split(X, y, test_size=0.2, random_state=42)\n",
    "\n",
    "# Fit linear regression model\n",
    "model = LinearRegression()\n",
    "model.fit(X_train, y_train)\n",
    "\n",
    "# Make predictions on test data\n",
    "y_pred = model.predict(X_test)\n",
    "\n",
    "# Create a 3D scatter plot\n",
    "fig = plt.figure()\n",
    "ax = fig.add_subplot(111, projection='3d')\n",
    "ax.scatter(X_test[:,0], X_test[:,1], y_test, c='b', marker='o')\n",
    "ax.set_xlabel('X1')\n",
    "ax.set_ylabel('X2')\n",
    "ax.set_zlabel('y')\n",
    "\n",
    "# Overlay predicted plane on top of scatter plot\n",
    "x1_grid, x2_grid = np.meshgrid(np.linspace(X_test[:,0].min(), X_test[:,0].max(), 10), \n",
    "                               np.linspace(X_test[:,1].min(), X_test[:,1].max(), 10))\n",
    "X_grid = np.hstack((x1_grid.reshape(-1,1), x2_grid.reshape(-1,1)))\n",
    "y_grid = model.predict(X_grid).reshape(x1_grid.shape)\n",
    "ax.plot_surface(x1_grid, x2_grid, y_grid, alpha=0.5)\n",
    "\n",
    "# Show plot\n",
    "plt.show()\n"
   ]
  },
  {
   "cell_type": "code",
   "execution_count": 17,
   "id": "118316e4-5156-49db-aa2f-4a15611a7133",
   "metadata": {},
   "outputs": [
    {
     "name": "stdout",
     "output_type": "stream",
     "text": [
      "Mean squared error: 0.6664320988651887\n"
     ]
    }
   ],
   "source": [
    "# Calculate mean squared error\n",
    "mse = mean_squared_error(y_test, y_pred)\n",
    "print(\"Mean squared error:\", mse)"
   ]
  },
  {
   "cell_type": "code",
   "execution_count": 18,
   "id": "22f06e20-d832-478b-ae00-969c3e8755cd",
   "metadata": {},
   "outputs": [
    {
     "name": "stdout",
     "output_type": "stream",
     "text": [
      "R-squared value: 0.7930246604696525\n"
     ]
    }
   ],
   "source": [
    "# Calculate R-squared value\n",
    "r_squared = r2_score(y_test, y_pred)\n",
    "print(\"R-squared value:\", r_squared)"
   ]
  },
  {
   "cell_type": "markdown",
   "id": "eb79a2f6-d9b3-47ae-aa0b-ca4aed13197d",
   "metadata": {},
   "source": [
    "### Polynomial Regression"
   ]
  },
  {
   "cell_type": "code",
   "execution_count": null,
   "id": "d5914844-1ef6-4ee1-9166-f795c4164b68",
   "metadata": {},
   "outputs": [],
   "source": []
  }
 ],
 "metadata": {
  "kernelspec": {
   "display_name": "Python 3 (ipykernel)",
   "language": "python",
   "name": "python3"
  },
  "language_info": {
   "codemirror_mode": {
    "name": "ipython",
    "version": 3
   },
   "file_extension": ".py",
   "mimetype": "text/x-python",
   "name": "python",
   "nbconvert_exporter": "python",
   "pygments_lexer": "ipython3",
   "version": "3.9.7"
  }
 },
 "nbformat": 4,
 "nbformat_minor": 5
}
