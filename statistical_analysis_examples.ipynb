{
 "cells": [
  {
   "cell_type": "markdown",
   "id": "1f714f99-f8a1-4607-8663-e0a45f9dee43",
   "metadata": {},
   "source": [
    "# Example 1 - Fitting a Log-Normal Distribution to Time Series Data"
   ]
  },
  {
   "cell_type": "markdown",
   "id": "16576a57-18f1-482e-a426-10d86f40fb22",
   "metadata": {},
   "source": [
    "Step 1: Load the Data\n",
    "\n",
    "Use Python's pandas library to load the time series data from the following URL:\n",
    "url = 'https://raw.githubusercontent.com/plotly/datasets/master/finance-charts-apple.csv'\n",
    "\n",
    "The data is in CSV format and contains daily closing prices of Apple Inc. stock from January 2010 to December 2013.\n",
    "\n",
    "\n",
    "Step 2: Extract the Relevant Column\n",
    "Extract the \"AAPL.Close\" column from the loaded data using pandas and store it in a variable called prices.\n",
    "\n",
    "\n",
    "Step 3: Fit a Log-Normal Distribution\n",
    "Use scipy.stats to fit a log-normal distribution to the prices data. Store the estimated shape, location, and scale parameters of the fitted distribution in variables called shape, loc, and scale, respectively.\n",
    "\n",
    "\n",
    "Step 4: Generate the PDF of the Fitted Distribution\n",
    "Generate the PDF of the fitted log-normal distribution using the estimated parameters obtained in Step 3. Use numpy to generate 100 equally spaced values between 0 and 500 for the x-axis.\n",
    "\n",
    "\n",
    "Step 5: Plot the Results\n",
    "Use matplotlib to generate a plot of the actual data and the PDF of the fitted log-normal distribution."
   ]
  },
  {
   "cell_type": "code",
   "execution_count": 26,
   "id": "9b512a1e-7c6c-4380-b644-dbb30276a9e6",
   "metadata": {},
   "outputs": [
    {
     "data": {
      "text/html": [
       "<div>\n",
       "<style scoped>\n",
       "    .dataframe tbody tr th:only-of-type {\n",
       "        vertical-align: middle;\n",
       "    }\n",
       "\n",
       "    .dataframe tbody tr th {\n",
       "        vertical-align: top;\n",
       "    }\n",
       "\n",
       "    .dataframe thead th {\n",
       "        text-align: right;\n",
       "    }\n",
       "</style>\n",
       "<table border=\"1\" class=\"dataframe\">\n",
       "  <thead>\n",
       "    <tr style=\"text-align: right;\">\n",
       "      <th></th>\n",
       "      <th>Date</th>\n",
       "      <th>AAPL.Open</th>\n",
       "      <th>AAPL.High</th>\n",
       "      <th>AAPL.Low</th>\n",
       "      <th>AAPL.Close</th>\n",
       "      <th>AAPL.Volume</th>\n",
       "      <th>AAPL.Adjusted</th>\n",
       "      <th>dn</th>\n",
       "      <th>mavg</th>\n",
       "      <th>up</th>\n",
       "      <th>direction</th>\n",
       "    </tr>\n",
       "  </thead>\n",
       "  <tbody>\n",
       "    <tr>\n",
       "      <th>0</th>\n",
       "      <td>2015-02-17</td>\n",
       "      <td>127.489998</td>\n",
       "      <td>128.880005</td>\n",
       "      <td>126.919998</td>\n",
       "      <td>127.830002</td>\n",
       "      <td>63152400</td>\n",
       "      <td>122.905254</td>\n",
       "      <td>106.741052</td>\n",
       "      <td>117.927667</td>\n",
       "      <td>129.114281</td>\n",
       "      <td>Increasing</td>\n",
       "    </tr>\n",
       "    <tr>\n",
       "      <th>1</th>\n",
       "      <td>2015-02-18</td>\n",
       "      <td>127.629997</td>\n",
       "      <td>128.779999</td>\n",
       "      <td>127.449997</td>\n",
       "      <td>128.720001</td>\n",
       "      <td>44891700</td>\n",
       "      <td>123.760965</td>\n",
       "      <td>107.842423</td>\n",
       "      <td>118.940333</td>\n",
       "      <td>130.038244</td>\n",
       "      <td>Increasing</td>\n",
       "    </tr>\n",
       "    <tr>\n",
       "      <th>2</th>\n",
       "      <td>2015-02-19</td>\n",
       "      <td>128.479996</td>\n",
       "      <td>129.029999</td>\n",
       "      <td>128.330002</td>\n",
       "      <td>128.449997</td>\n",
       "      <td>37362400</td>\n",
       "      <td>123.501363</td>\n",
       "      <td>108.894245</td>\n",
       "      <td>119.889167</td>\n",
       "      <td>130.884089</td>\n",
       "      <td>Decreasing</td>\n",
       "    </tr>\n",
       "    <tr>\n",
       "      <th>3</th>\n",
       "      <td>2015-02-20</td>\n",
       "      <td>128.619995</td>\n",
       "      <td>129.500000</td>\n",
       "      <td>128.050003</td>\n",
       "      <td>129.500000</td>\n",
       "      <td>48948400</td>\n",
       "      <td>124.510914</td>\n",
       "      <td>109.785449</td>\n",
       "      <td>120.763500</td>\n",
       "      <td>131.741551</td>\n",
       "      <td>Increasing</td>\n",
       "    </tr>\n",
       "    <tr>\n",
       "      <th>4</th>\n",
       "      <td>2015-02-23</td>\n",
       "      <td>130.020004</td>\n",
       "      <td>133.000000</td>\n",
       "      <td>129.660004</td>\n",
       "      <td>133.000000</td>\n",
       "      <td>70974100</td>\n",
       "      <td>127.876074</td>\n",
       "      <td>110.372516</td>\n",
       "      <td>121.720167</td>\n",
       "      <td>133.067817</td>\n",
       "      <td>Increasing</td>\n",
       "    </tr>\n",
       "    <tr>\n",
       "      <th>...</th>\n",
       "      <td>...</td>\n",
       "      <td>...</td>\n",
       "      <td>...</td>\n",
       "      <td>...</td>\n",
       "      <td>...</td>\n",
       "      <td>...</td>\n",
       "      <td>...</td>\n",
       "      <td>...</td>\n",
       "      <td>...</td>\n",
       "      <td>...</td>\n",
       "      <td>...</td>\n",
       "    </tr>\n",
       "    <tr>\n",
       "      <th>501</th>\n",
       "      <td>2017-02-10</td>\n",
       "      <td>132.460007</td>\n",
       "      <td>132.940002</td>\n",
       "      <td>132.050003</td>\n",
       "      <td>132.119995</td>\n",
       "      <td>20065500</td>\n",
       "      <td>132.119995</td>\n",
       "      <td>114.494004</td>\n",
       "      <td>124.498666</td>\n",
       "      <td>134.503328</td>\n",
       "      <td>Decreasing</td>\n",
       "    </tr>\n",
       "    <tr>\n",
       "      <th>502</th>\n",
       "      <td>2017-02-13</td>\n",
       "      <td>133.080002</td>\n",
       "      <td>133.820007</td>\n",
       "      <td>132.750000</td>\n",
       "      <td>133.289993</td>\n",
       "      <td>23035400</td>\n",
       "      <td>133.289993</td>\n",
       "      <td>114.820798</td>\n",
       "      <td>125.205166</td>\n",
       "      <td>135.589534</td>\n",
       "      <td>Increasing</td>\n",
       "    </tr>\n",
       "    <tr>\n",
       "      <th>503</th>\n",
       "      <td>2017-02-14</td>\n",
       "      <td>133.470001</td>\n",
       "      <td>135.089996</td>\n",
       "      <td>133.250000</td>\n",
       "      <td>135.020004</td>\n",
       "      <td>32815500</td>\n",
       "      <td>135.020004</td>\n",
       "      <td>115.175718</td>\n",
       "      <td>125.953499</td>\n",
       "      <td>136.731280</td>\n",
       "      <td>Increasing</td>\n",
       "    </tr>\n",
       "    <tr>\n",
       "      <th>504</th>\n",
       "      <td>2017-02-15</td>\n",
       "      <td>135.520004</td>\n",
       "      <td>136.270004</td>\n",
       "      <td>134.619995</td>\n",
       "      <td>135.509995</td>\n",
       "      <td>35501600</td>\n",
       "      <td>135.509995</td>\n",
       "      <td>115.545035</td>\n",
       "      <td>126.723499</td>\n",
       "      <td>137.901963</td>\n",
       "      <td>Decreasing</td>\n",
       "    </tr>\n",
       "    <tr>\n",
       "      <th>505</th>\n",
       "      <td>2017-02-16</td>\n",
       "      <td>135.669998</td>\n",
       "      <td>135.899994</td>\n",
       "      <td>134.839996</td>\n",
       "      <td>135.350006</td>\n",
       "      <td>22118000</td>\n",
       "      <td>135.350006</td>\n",
       "      <td>116.203299</td>\n",
       "      <td>127.504333</td>\n",
       "      <td>138.805366</td>\n",
       "      <td>Decreasing</td>\n",
       "    </tr>\n",
       "  </tbody>\n",
       "</table>\n",
       "<p>506 rows × 11 columns</p>\n",
       "</div>"
      ],
      "text/plain": [
       "           Date   AAPL.Open   AAPL.High    AAPL.Low  AAPL.Close  AAPL.Volume  \\\n",
       "0    2015-02-17  127.489998  128.880005  126.919998  127.830002     63152400   \n",
       "1    2015-02-18  127.629997  128.779999  127.449997  128.720001     44891700   \n",
       "2    2015-02-19  128.479996  129.029999  128.330002  128.449997     37362400   \n",
       "3    2015-02-20  128.619995  129.500000  128.050003  129.500000     48948400   \n",
       "4    2015-02-23  130.020004  133.000000  129.660004  133.000000     70974100   \n",
       "..          ...         ...         ...         ...         ...          ...   \n",
       "501  2017-02-10  132.460007  132.940002  132.050003  132.119995     20065500   \n",
       "502  2017-02-13  133.080002  133.820007  132.750000  133.289993     23035400   \n",
       "503  2017-02-14  133.470001  135.089996  133.250000  135.020004     32815500   \n",
       "504  2017-02-15  135.520004  136.270004  134.619995  135.509995     35501600   \n",
       "505  2017-02-16  135.669998  135.899994  134.839996  135.350006     22118000   \n",
       "\n",
       "     AAPL.Adjusted          dn        mavg          up   direction  \n",
       "0       122.905254  106.741052  117.927667  129.114281  Increasing  \n",
       "1       123.760965  107.842423  118.940333  130.038244  Increasing  \n",
       "2       123.501363  108.894245  119.889167  130.884089  Decreasing  \n",
       "3       124.510914  109.785449  120.763500  131.741551  Increasing  \n",
       "4       127.876074  110.372516  121.720167  133.067817  Increasing  \n",
       "..             ...         ...         ...         ...         ...  \n",
       "501     132.119995  114.494004  124.498666  134.503328  Decreasing  \n",
       "502     133.289993  114.820798  125.205166  135.589534  Increasing  \n",
       "503     135.020004  115.175718  125.953499  136.731280  Increasing  \n",
       "504     135.509995  115.545035  126.723499  137.901963  Decreasing  \n",
       "505     135.350006  116.203299  127.504333  138.805366  Decreasing  \n",
       "\n",
       "[506 rows x 11 columns]"
      ]
     },
     "execution_count": 26,
     "metadata": {},
     "output_type": "execute_result"
    }
   ],
   "source": [
    "import pandas as pd\n",
    "import numpy as np\n",
    "import matplotlib.pyplot as plt\n",
    "from scipy.stats import lognorm\n",
    "\n",
    "# Read time series data from online CSV file\n",
    "url = 'https://raw.githubusercontent.com/plotly/datasets/master/finance-charts-apple.csv'\n",
    "df = pd.read_csv(url)\n",
    "\n",
    "df\n"
   ]
  },
  {
   "cell_type": "code",
   "execution_count": 27,
   "id": "4d5f72d6-6aa1-4369-a79f-2dcc45d5d1ac",
   "metadata": {},
   "outputs": [
    {
     "data": {
      "image/png": "[encoded data removed]",
      "text/plain": [
       "<Figure size 432x288 with 1 Axes>"
      ]
     },
     "metadata": {
      "needs_background": "light"
     },
     "output_type": "display_data"
    }
   ],
   "source": [
    "# Extract the closing price column from the data\n",
    "prices = df['AAPL.Close']\n",
    "\n",
    "# Plot the time series data along with the fitted log-normal distribution\n",
    "fig, ax = plt.subplots()\n",
    "ax.plot(df['Date'], prices)\n",
    "ax.set_xlabel('Date')\n",
    "ax.set_ylabel('Closing Price')\n",
    "ax.legend(['Data'])\n",
    "plt.show()"
   ]
  },
  {
   "cell_type": "code",
   "execution_count": 28,
   "id": "653a0604-3936-4f40-a07d-95807b7fed06",
   "metadata": {},
   "outputs": [
    {
     "data": {
      "image/png": "[encoded data removed]",
      "text/plain": [
       "<Figure size 432x288 with 1 Axes>"
      ]
     },
     "metadata": {
      "needs_background": "light"
     },
     "output_type": "display_data"
    }
   ],
   "source": [
    "fig, ax = plt.subplots()\n",
    "ax.hist(prices, bins=50, density=True, alpha=0.5)\n",
    "ax.set_xlabel('Closing Price')\n",
    "ax.set_ylabel('Probability Density')\n",
    "plt.show()"
   ]
  },
  {
   "cell_type": "code",
   "execution_count": 29,
   "id": "c3fc010d-7a08-42d9-b0fc-2ddde156b77a",
   "metadata": {},
   "outputs": [],
   "source": [
    "# Fit a log-normal distribution to the data\n",
    "shape, loc, scale = lognorm.fit(prices)\n",
    "\n",
    "# Generate the PDF of the log-normal distribution using the estimated parameters\n",
    "x = np.linspace(0, 500, 100)\n",
    "pdf = lognorm.pdf(x, shape, loc, scale)"
   ]
  },
  {
   "cell_type": "code",
   "execution_count": 30,
   "id": "cc3c2e67-bc86-4abd-9a2d-8b5ee3e6f285",
   "metadata": {},
   "outputs": [
    {
     "data": {
      "image/png": "[encoded data removed]",
      "text/plain": [
       "<Figure size 432x288 with 1 Axes>"
      ]
     },
     "metadata": {
      "needs_background": "light"
     },
     "output_type": "display_data"
    }
   ],
   "source": [
    "fig, ax = plt.subplots()\n",
    "ax.hist(prices, bins=50, density=True, alpha=0.5)\n",
    "ax.plot(x, pdf, 'r', linewidth=2)\n",
    "ax.set_xlabel('Closing Price')\n",
    "ax.set_ylabel('Probability Density')\n",
    "ax.set_title('Log-Normal Distribution PDF and Actual Data')\n",
    "plt.show()"
   ]
  },
  {
   "cell_type": "markdown",
   "id": "3c75173d-7c31-4b25-9b86-d856b3cb3dd4",
   "metadata": {},
   "source": [
    "# Example 2: Comparing the statistical properties of two distributions"
   ]
  },
  {
   "cell_type": "code",
   "execution_count": 20,
   "id": "38a564e1-8dad-4da5-a9a6-becf2c0c48ae",
   "metadata": {},
   "outputs": [
    {
     "name": "stdout",
     "output_type": "stream",
     "text": [
      "Dataset 1\n",
      "Mean: 50.07654833412745\n",
      "Median: 50.13329976416662\n",
      "Mode: 52\n",
      "\n",
      "Dataset 2\n",
      "Mean: 19.46951484980268\n",
      "Median: 13.563387993708762\n",
      "Mode: 0\n",
      "\n",
      "Dataset 1\n",
      "Variance: 95.58126524214406\n",
      "Standard deviation: 9.776567150188457\n",
      "Skewness: 0.10887930940996304\n",
      "Kurtosis: -0.004097944777959217\n",
      "\n",
      "Dataset 2\n",
      "Variance: 372.5099719772056\n",
      "Standard deviation: 19.300517401800544\n",
      "Skewness: 1.6810445357372839\n",
      "Kurtosis: 3.181994583335106\n"
     ]
    }
   ],
   "source": [
    "import numpy as np\n",
    "import matplotlib.pyplot as plt\n",
    "from scipy.stats import skew, kurtosis\n",
    "\n",
    "\n",
    "# Generate two sets of data\n",
    "data1 = np.random.normal(50, 10, size=1000)\n",
    "data2 = np.random.exponential(scale=20, size=1000)\n",
    "\n",
    "# Calculate and print the mean, median, and mode for both datasets\n",
    "print(\"Dataset 1\")\n",
    "print(\"Mean:\", np.mean(data1))\n",
    "print(\"Median:\", np.median(data1))\n",
    "print(\"Mode:\", np.argmax(np.bincount(data1.astype('int64'))))\n",
    "\n",
    "print(\"\\nDataset 2\")\n",
    "print(\"Mean:\", np.mean(data2))\n",
    "print(\"Median:\", np.median(data2))\n",
    "print(\"Mode:\", np.argmax(np.bincount(data2.astype('int64'))))\n",
    "\n",
    "# Calculate and print the variance, standard deviation, skewness, and kurtosis for both datasets\n",
    "print(\"\\nDataset 1\")\n",
    "print(\"Variance:\", np.var(data1))\n",
    "print(\"Standard deviation:\", np.std(data1))\n",
    "print(\"Skewness:\", skew(data1))\n",
    "print(\"Kurtosis:\", kurtosis(data1))\n",
    "\n",
    "print(\"\\nDataset 2\")\n",
    "print(\"Variance:\", np.var(data2))\n",
    "print(\"Standard deviation:\", np.std(data2))\n",
    "print(\"Skewness:\", skew(data2))\n",
    "print(\"Kurtosis:\", kurtosis(data2))\n"
   ]
  },
  {
   "cell_type": "code",
   "execution_count": 22,
   "id": "e897afea-2e55-4bee-bd89-ac0a0e906399",
   "metadata": {},
   "outputs": [
    {
     "data": {
      "image/png": "[encoded data removed]",
      "text/plain": [
       "<Figure size 432x288 with 1 Axes>"
      ]
     },
     "metadata": {
      "needs_background": "light"
     },
     "output_type": "display_data"
    }
   ],
   "source": [
    "fig, ax = plt.subplots()\n",
    "ax.hist(data1, bins=50, alpha=0.5, color='blue', label='Dataset 1')\n",
    "ax.hist(data2, bins=50, alpha=0.5, color='red', label='Dataset 2')\n",
    "ax.legend(loc='upper right')\n",
    "ax.set_xlabel('Value')\n",
    "ax.set_ylabel('Frequency')\n",
    "plt.show()"
   ]
  },
  {
   "cell_type": "code",
   "execution_count": 24,
   "id": "5fed3034-7392-4898-84b5-3aa7a074ae98",
   "metadata": {},
   "outputs": [
    {
     "data": {
      "image/png": "[encoded data removed]",
      "text/plain": [
       "<Figure size 432x288 with 1 Axes>"
      ]
     },
     "metadata": {
      "needs_background": "light"
     },
     "output_type": "display_data"
    }
   ],
   "source": [
    "import numpy as np\n",
    "import matplotlib.pyplot as plt\n",
    "from scipy.stats import norm, expon\n",
    "\n",
    "\n",
    "# Fit the normal distribution to the first dataset\n",
    "mu1, sigma1 = norm.fit(data1)\n",
    "\n",
    "# Fit the exponential distribution to the second dataset\n",
    "lambd2 = expon.fit(data2)[0]\n",
    "\n",
    "# Create a range of x values for the fitted distributions\n",
    "x = np.linspace(min(min(data1), min(data2)), max(max(data1), max(data2)), 100)\n",
    "\n",
    "# Calculate the fitted distributions for both datasets\n",
    "fit1 = norm.pdf(x, loc=mu1, scale=sigma1)\n",
    "fit2 = expon.pdf(x, scale=1/lambd2)\n",
    "\n",
    "# Plot the histograms of the data and the fitted distributions\n",
    "fig, ax = plt.subplots()\n",
    "ax.hist(data1, bins=50, alpha=0.5, density=True, color='blue', label='Dataset 1')\n",
    "ax.hist(data2, bins=50, alpha=0.5, density=True, color='red', label='Dataset 2')\n",
    "ax.plot(x, fit1, color='blue', linestyle='--', label='Fitted normal')\n",
    "ax.plot(x, fit2, color='red', linestyle='--', label='Fitted exponential')\n",
    "ax.legend(loc='upper right')\n",
    "ax.set_xlabel('Value')\n",
    "ax.set_ylabel('Frequency / Probability density')\n",
    "plt.show()\n"
   ]
  },
  {
   "cell_type": "code",
   "execution_count": null,
   "id": "2a2a77b5-524c-45ef-9f88-26114b9eb656",
   "metadata": {},
   "outputs": [],
   "source": []
  }
 ],
 "metadata": {
  "kernelspec": {
   "display_name": "Python 3 (ipykernel)",
   "language": "python",
   "name": "python3"
  },
  "language_info": {
   "codemirror_mode": {
    "name": "ipython",
    "version": 3
   },
   "file_extension": ".py",
   "mimetype": "text/x-python",
   "name": "python",
   "nbconvert_exporter": "python",
   "pygments_lexer": "ipython3",
   "version": "3.9.7"
  }
 },
 "nbformat": 4,
 "nbformat_minor": 5
}
