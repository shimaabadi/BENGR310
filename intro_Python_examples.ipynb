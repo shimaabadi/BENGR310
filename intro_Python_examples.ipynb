{
 "cells": [
  {
   "cell_type": "markdown",
   "id": "02bb2f20-57cb-4ef0-aa1b-60bf41a2ebfe",
   "metadata": {},
   "source": [
    "# Example 1 - For Loop"
   ]
  },
  {
   "cell_type": "markdown",
   "id": "0f769e61-41e6-4505-952b-74527aa61fe9",
   "metadata": {},
   "source": [
    "Write a Python program that asks the user for a number and prints the multiplication table for that number using a for loop.\n",
    "\n",
    "Requirements:\n",
    "\n",
    "The program should ask the user to input a number.\n",
    "\n",
    "The program should use a for loop to print the multiplication table for that number from 1 to 10.\n",
    "\n",
    "The program should display the output in the following format:"
   ]
  },
  {
   "cell_type": "raw",
   "id": "d2320495-0d3e-46ac-aa0a-c93d31d6cba1",
   "metadata": {},
   "source": [
    "Enter a number: 5\n",
    "5 x 1 = 5\n",
    "5 x 2 = 10\n",
    "5 x 3 = 15\n",
    "5 x 4 = 20\n",
    "5 x 5 = 25\n",
    "5 x 6 = 30\n",
    "5 x 7 = 35\n",
    "5 x 8 = 40\n",
    "5 x 9 = 45\n",
    "5 x 10 = 50\n"
   ]
  },
  {
   "cell_type": "code",
   "execution_count": 4,
   "id": "91b9bf6b-ad01-4596-84d7-7dfd2e8e48c2",
   "metadata": {},
   "outputs": [
    {
     "name": "stdin",
     "output_type": "stream",
     "text": [
      "Enter a number:  5\n"
     ]
    },
    {
     "name": "stdout",
     "output_type": "stream",
     "text": [
      "5 x 1 = 5\n",
      "5 x 2 = 10\n",
      "5 x 3 = 15\n",
      "5 x 4 = 20\n",
      "5 x 5 = 25\n",
      "5 x 6 = 30\n",
      "5 x 7 = 35\n",
      "5 x 8 = 40\n",
      "5 x 9 = 45\n",
      "5 x 10 = 50\n"
     ]
    }
   ],
   "source": [
    "# ask user for input\n",
    "num = int(input(\"Enter a number: \"))\n",
    "\n",
    "# print multiplication table using a for loop\n",
    "for i in range(1, 11):\n",
    "    print(num, \"x\", i, \"=\", num*i)\n"
   ]
  },
  {
   "cell_type": "markdown",
   "id": "015feb72-c0b8-47d1-ad1e-feace41117a5",
   "metadata": {},
   "source": [
    "# Example 2 - Define a Function"
   ]
  },
  {
   "cell_type": "markdown",
   "id": "8406e50f-d887-4208-8ab2-cd7fad8cf3e4",
   "metadata": {},
   "source": [
    "Define a function called rectangle_area that takes two input parameters: length and width. Inside the function, calculate the area of the rectangle using the formula length * width, and assign the result to a local variable area. Then use the return statement to return the value of area back to the calling code.\n",
    "\n",
    "To call the rectangle_area function, we simply provide two arguments to the function that represent the length and width of the rectangle we want to calculate the area for. We store the result of the function call in a variable called area, and then use the print() function to display the result to the user."
   ]
  },
  {
   "cell_type": "code",
   "execution_count": 5,
   "id": "68784400-f48f-4553-8811-3a4ac891cb8a",
   "metadata": {},
   "outputs": [],
   "source": [
    "# Define a function to calculate the area of a rectangle\n",
    "def rectangle_area(length, width):\n",
    "    area = length * width\n",
    "    return area\n"
   ]
  },
  {
   "cell_type": "code",
   "execution_count": 6,
   "id": "e388b84f-7456-4832-98e1-0a418ad27bc1",
   "metadata": {},
   "outputs": [
    {
     "name": "stdout",
     "output_type": "stream",
     "text": [
      "The area of the rectangle is 50\n"
     ]
    }
   ],
   "source": [
    "# Call the function with input arguments and print the result\n",
    "length = 10\n",
    "width = 5\n",
    "area = rectangle_area(length, width)\n",
    "print(\"The area of the rectangle is\", area)"
   ]
  },
  {
   "cell_type": "markdown",
   "id": "9be86de9-d6b3-48f5-9a81-d5defb123087",
   "metadata": {},
   "source": [
    "# Example 3 - Numpy and Matplotlib"
   ]
  },
  {
   "cell_type": "markdown",
   "id": "e134b7e4-7a4a-4d9d-acf3-0b874e6026c1",
   "metadata": {},
   "source": [
    "1. Generate Data with NumPy:\n",
    "Use NumPy to generate two arrays of data. One array should be a list of x-values, and the other should be a list of y-values. The x-values should range from -5 to 5, with a step size of 0.1. The y-values should be the result of the equation y = x^2.\n",
    "\n",
    "2. Create a Simple Plot:\n",
    "Use Matplotlib to create a simple plot of the data. The x-axis should be labeled \"x-values\" and the y-axis should be labeled \"y-values\". Add a title to the plot that says \"y = x^2\".\n",
    "\n",
    "3. Customize the Plot:\n",
    "Customize the plot by changing the color of the line to red and adding markers to each data point. Use a dashed line style for the plot. Add a legend to the plot that shows the label \"y = x^2\". Save the plot as a PNG file named \"plot.png\"."
   ]
  },
  {
   "cell_type": "code",
   "execution_count": 7,
   "id": "a3aa20a6-4e11-4be3-bb30-7c3467ba0c61",
   "metadata": {},
   "outputs": [
    {
     "data": {
      "image/png": "[encoded data removed]",
      "text/plain": [
       "<Figure size 432x288 with 1 Axes>"
      ]
     },
     "metadata": {
      "needs_background": "light"
     },
     "output_type": "display_data"
    }
   ],
   "source": [
    "import numpy as np\n",
    "import matplotlib.pyplot as plt\n",
    "\n",
    "# Task 1: Generate Data with NumPy\n",
    "x = np.arange(-5, 5, 0.1)\n",
    "y = x ** 2\n",
    "\n",
    "# Task 2: Create a Simple Plot\n",
    "plt.plot(x, y)\n",
    "plt.xlabel(\"x-values\")\n",
    "plt.ylabel(\"y-values\")\n",
    "plt.title(\"y = x^2\")\n",
    "\n",
    "# Task 3: Customize the Plot\n",
    "plt.plot(x, y, \"r--\", marker=\"o\", label=\"y = x^2\")\n",
    "plt.legend()\n",
    "plt.savefig(\"plot.png\")"
   ]
  },
  {
   "cell_type": "markdown",
   "id": "8ed4f9ad-a078-43b0-a927-a639074424b1",
   "metadata": {},
   "source": [
    "# Example 4 - Histogram"
   ]
  },
  {
   "cell_type": "markdown",
   "id": "13ccf474-1f54-40e5-a917-a35723a4258d",
   "metadata": {},
   "source": [
    "Create a Histogram: Use NumPy to generate an array of 1000 random numbers drawn from a normal distribution with a mean of 0 and a standard deviation of 1. Use Matplotlib to create a histogram of the data with 30 bins. Label the x-axis \"Value\" and the y-axis \"Frequency\". Add a title to the plot that says \"Normal Distribution\". Save the plot as a PNG file named \"histogram.png\".\n"
   ]
  },
  {
   "cell_type": "code",
   "execution_count": 10,
   "id": "de5a474f-9f4b-4906-9299-71e76f682808",
   "metadata": {},
   "outputs": [
    {
     "data": {
      "text/plain": [
       "Text(0.5, 1.0, 'Normal Distribution')"
      ]
     },
     "execution_count": 10,
     "metadata": {},
     "output_type": "execute_result"
    },
    {
     "data": {
      "image/png": "[encoded data removed]",
      "text/plain": [
       "<Figure size 432x288 with 1 Axes>"
      ]
     },
     "metadata": {
      "needs_background": "light"
     },
     "output_type": "display_data"
    }
   ],
   "source": [
    "import numpy as np\n",
    "data = np.random.normal(0, 1, 1000)\n",
    "plt.hist(data, bins=30)\n",
    "plt.xlabel(\"Value\")\n",
    "plt.ylabel(\"Frequency\")\n",
    "plt.title(\"Normal Distribution\")\n",
    "#plt.savefig(\"histogram.png\")"
   ]
  },
  {
   "cell_type": "markdown",
   "id": "2234e0ca-1de7-41fd-95f9-6df80746cdb7",
   "metadata": {},
   "source": [
    "# Example 5 - Random Numbers"
   ]
  },
  {
   "cell_type": "markdown",
   "id": "4fe609c8-0570-4fbd-9c1f-1d3614a7509c",
   "metadata": {},
   "source": [
    "Create a Scatter Plot: Use NumPy to generate two arrays of data, one for x-values and one for y-values. Each array should have 1000 random numbers drawn from a uniform distribution between 0 and 1. Use Matplotlib to create a scatter plot of the data. Label the x-axis \"X\" and the y-axis \"Y\". Add a title to the plot that says \"Uniform Distribution\". Save the plot as a PNG file named \"scatter.png\"."
   ]
  },
  {
   "cell_type": "code",
   "execution_count": 3,
   "id": "224ef61f-04a7-4ef5-9379-f8a677480942",
   "metadata": {},
   "outputs": [
    {
     "data": {
      "image/png": "[encoded data removed]",
      "text/plain": [
       "<Figure size 432x288 with 1 Axes>"
      ]
     },
     "metadata": {
      "needs_background": "light"
     },
     "output_type": "display_data"
    }
   ],
   "source": [
    "# Create a Scatter Plot\n",
    "x = np.random.uniform(0, 1, 1000)\n",
    "y = np.random.uniform(0, 1, 1000)\n",
    "plt.scatter(x, y)\n",
    "plt.xlabel(\"X\")\n",
    "plt.ylabel(\"Y\")\n",
    "plt.title(\"Uniform Distribution\")\n",
    "plt.savefig(\"scatter.png\")\n"
   ]
  },
  {
   "cell_type": "markdown",
   "id": "12653bba-43b7-4964-a007-e30914a9650a",
   "metadata": {},
   "source": [
    "# Example 6 - IF statement"
   ]
  },
  {
   "cell_type": "markdown",
   "id": "d52008df-3898-463d-b22b-480767ad0134",
   "metadata": {},
   "source": [
    "Find the Maximum of Three Numbers\n",
    "\n",
    "Write a Python function called max_of_three that takes three numbers as input and returns the maximum of the three numbers. Use if statements to check which number is the largest. Test your function with several inputs to make sure it works correctly."
   ]
  },
  {
   "cell_type": "code",
   "execution_count": 8,
   "id": "5787847f-9ac4-47fb-b45c-53ced0d5ebc1",
   "metadata": {},
   "outputs": [],
   "source": [
    "def max_of_three(num1, num2, num3):\n",
    "    \"\"\"Returns the maximum of three numbers\"\"\"\n",
    "    if num1 >= num2 and num1 >= num3:\n",
    "        return num1\n",
    "    elif num2 >= num1 and num2 >= num3:\n",
    "        return num2\n",
    "    else:\n",
    "        return num3"
   ]
  },
  {
   "cell_type": "code",
   "execution_count": 9,
   "id": "21029027-6b41-4d35-8f17-1d165d32b6e4",
   "metadata": {},
   "outputs": [
    {
     "name": "stdout",
     "output_type": "stream",
     "text": [
      "30\n",
      "100\n",
      "5\n"
     ]
    }
   ],
   "source": [
    "# Testing the function with different inputs\n",
    "print(max_of_three(10, 20, 30)) # Output: 30\n",
    "print(max_of_three(100, 50, 75)) # Output: 100\n",
    "print(max_of_three(5, 5, 5)) # Output: 5"
   ]
  },
  {
   "cell_type": "code",
   "execution_count": null,
   "id": "5d1056ce-0827-43ad-82be-97fc7ed20450",
   "metadata": {},
   "outputs": [],
   "source": []
  }
 ],
 "metadata": {
  "kernelspec": {
   "display_name": "Python 3 (ipykernel)",
   "language": "python",
   "name": "python3"
  },
  "language_info": {
   "codemirror_mode": {
    "name": "ipython",
    "version": 3
   },
   "file_extension": ".py",
   "mimetype": "text/x-python",
   "name": "python",
   "nbconvert_exporter": "python",
   "pygments_lexer": "ipython3",
   "version": "3.9.7"
  }
 },
 "nbformat": 4,
 "nbformat_minor": 5
}
