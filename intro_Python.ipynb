{
 "cells": [
  {
   "cell_type": "markdown",
   "id": "6ac79388-9a4c-413a-8a89-b2f3cc554afe",
   "metadata": {},
   "source": [
    "# Introduction"
   ]
  },
  {
   "cell_type": "markdown",
   "id": "8f833449-2e7c-4606-a98d-15c15a766162",
   "metadata": {},
   "source": [
    "### Basics of Python syntax"
   ]
  },
  {
   "cell_type": "code",
   "execution_count": 4,
   "id": "aed3a2f5-6e10-4735-8bd0-16c8798c7053",
   "metadata": {},
   "outputs": [
    {
     "name": "stdout",
     "output_type": "stream",
     "text": [
      "0\n",
      "1\n",
      "2\n",
      "3\n",
      "4\n",
      "x is less than or equal to 3\n"
     ]
    }
   ],
   "source": [
    "# Variables and data types\n",
    "x = 3\n",
    "y = \"Hello\"\n",
    "z = 3.14\n",
    "\n",
    "# Operators\n",
    "a = x + z\n",
    "b = y * 2\n",
    "\n",
    "# Loops\n",
    "for i in range(5):\n",
    "    print(i)\n",
    "\n",
    "# Conditional statements\n",
    "if x > 3:\n",
    "    print(\"x is greater than 3\")\n",
    "else:\n",
    "    print(\"x is less than or equal to 3\")\n"
   ]
  },
  {
   "cell_type": "markdown",
   "id": "49b8009f-9802-4d77-a4ee-78799d8b1cd3",
   "metadata": {},
   "source": [
    "### Functions"
   ]
  },
  {
   "cell_type": "code",
   "execution_count": 5,
   "id": "ec70208a-9b31-4d82-816a-61a4bf6ce63b",
   "metadata": {},
   "outputs": [
    {
     "name": "stdout",
     "output_type": "stream",
     "text": [
      "6\n"
     ]
    }
   ],
   "source": [
    "# Defining a function\n",
    "def add_numbers(x, y):\n",
    "    return x + y\n",
    "\n",
    "# Calling a function\n",
    "result = add_numbers(2, 4)\n",
    "print(result)\n"
   ]
  },
  {
   "cell_type": "markdown",
   "id": "4761075f-3dad-48bb-909f-c921954cc3b6",
   "metadata": {},
   "source": [
    "### Input and output"
   ]
  },
  {
   "cell_type": "code",
   "execution_count": 7,
   "id": "72853399-98ab-4915-aafc-fc733b69187a",
   "metadata": {},
   "outputs": [
    {
     "ename": "FileNotFoundError",
     "evalue": "[Errno 2] No such file or directory: 'file.txt'",
     "output_type": "error",
     "traceback": [
      "\u001b[0;31m---------------------------------------------------------------------------\u001b[0m",
      "\u001b[0;31mFileNotFoundError\u001b[0m                         Traceback (most recent call last)",
      "\u001b[0;32m/tmp/ipykernel_50/2212198526.py\u001b[0m in \u001b[0;36m<module>\u001b[0;34m\u001b[0m\n\u001b[1;32m      1\u001b[0m \u001b[0;31m# Reading from a file\u001b[0m\u001b[0;34m\u001b[0m\u001b[0;34m\u001b[0m\u001b[0m\n\u001b[0;32m----> 2\u001b[0;31m \u001b[0;32mwith\u001b[0m \u001b[0mopen\u001b[0m\u001b[0;34m(\u001b[0m\u001b[0;34m\"file.txt\"\u001b[0m\u001b[0;34m,\u001b[0m \u001b[0;34m\"r\"\u001b[0m\u001b[0;34m)\u001b[0m \u001b[0;32mas\u001b[0m \u001b[0mf\u001b[0m\u001b[0;34m:\u001b[0m\u001b[0;34m\u001b[0m\u001b[0;34m\u001b[0m\u001b[0m\n\u001b[0m\u001b[1;32m      3\u001b[0m     \u001b[0mcontents\u001b[0m \u001b[0;34m=\u001b[0m \u001b[0mf\u001b[0m\u001b[0;34m.\u001b[0m\u001b[0mread\u001b[0m\u001b[0;34m(\u001b[0m\u001b[0;34m)\u001b[0m\u001b[0;34m\u001b[0m\u001b[0;34m\u001b[0m\u001b[0m\n",
      "\u001b[0;31mFileNotFoundError\u001b[0m: [Errno 2] No such file or directory: 'file.txt'"
     ]
    }
   ],
   "source": [
    "# Reading from a file\n",
    "with open(\"file.txt\", \"r\") as f:\n",
    "    contents = f.read()\n"
   ]
  },
  {
   "cell_type": "code",
   "execution_count": 8,
   "id": "7ae8de6b-dc48-41b3-bb44-0f3d6f6ef1f5",
   "metadata": {},
   "outputs": [
    {
     "name": "stdout",
     "output_type": "stream",
     "text": [
      "Hello, world!\n"
     ]
    }
   ],
   "source": [
    "# Writing to a file\n",
    "with open(\"file.txt\", \"w\") as f:\n",
    "    f.write(\"Hello, world!\")\n",
    "\n",
    "# Displaying output\n",
    "print(\"Hello, world!\")"
   ]
  },
  {
   "cell_type": "markdown",
   "id": "b13c4319-fabf-4c1f-9692-1fade6842543",
   "metadata": {},
   "source": [
    "### Data structures"
   ]
  },
  {
   "cell_type": "code",
   "execution_count": 4,
   "id": "fd1165fa-bd34-4eb5-b7fe-9310bc8cef0c",
   "metadata": {},
   "outputs": [
    {
     "name": "stdout",
     "output_type": "stream",
     "text": [
      "apple\n",
      "John\n"
     ]
    }
   ],
   "source": [
    "# Lists\n",
    "fruits = [\"apple\", \"banana\", \"cherry\"]\n",
    "fruits.append(\"orange\")\n",
    "print(fruits[0])\n",
    "\n",
    "# Tuples\n",
    "person = (\"John\", \"Doe\", 25)\n",
    "\n",
    "# Dictionaries\n",
    "person = {\"name\": \"John\", \"age\": 25}\n",
    "print(person[\"name\"])\n",
    "\n",
    "# Sets\n",
    "my_set = {1, 2, 3}\n"
   ]
  },
  {
   "cell_type": "markdown",
   "id": "e08f9bd7-1ab9-46a5-9f40-4f5d05836c9e",
   "metadata": {},
   "source": [
    "### Object-Oriented Programming"
   ]
  },
  {
   "cell_type": "code",
   "execution_count": 5,
   "id": "d7246a75-b783-4004-b56d-aca96c5b695f",
   "metadata": {},
   "outputs": [
    {
     "name": "stdout",
     "output_type": "stream",
     "text": [
      "Hello, my name is John\n"
     ]
    }
   ],
   "source": [
    "# Defining a class\n",
    "class Person:\n",
    "    def __init__(self, name, age):\n",
    "        self.name = name\n",
    "        self.age = age\n",
    "\n",
    "    def say_hello(self):\n",
    "        print(\"Hello, my name is \" + self.name)\n",
    "\n",
    "# Creating an object\n",
    "person = Person(\"John\", 25)\n",
    "person.say_hello()\n"
   ]
  },
  {
   "cell_type": "markdown",
   "id": "6b84ff1b-ea7e-45fb-b6c2-b8a895448c4a",
   "metadata": {},
   "source": [
    "### Exception handling"
   ]
  },
  {
   "cell_type": "code",
   "execution_count": 6,
   "id": "ce399c84-352e-4944-ba16-db6960622cb4",
   "metadata": {},
   "outputs": [
    {
     "name": "stdout",
     "output_type": "stream",
     "text": [
      "Cannot divide by zero\n"
     ]
    }
   ],
   "source": [
    "# Handling an exception\n",
    "try:\n",
    "    x = 1 / 0\n",
    "except ZeroDivisionError:\n",
    "    print(\"Cannot divide by zero\")\n"
   ]
  },
  {
   "cell_type": "markdown",
   "id": "5f91a1eb-31d9-4563-a233-8b64002b5615",
   "metadata": {},
   "source": [
    "### Libraries and modules"
   ]
  },
  {
   "cell_type": "code",
   "execution_count": 10,
   "id": "3d4e99d5-8341-4a84-bae1-6f4b16908dff",
   "metadata": {},
   "outputs": [
    {
     "name": "stdout",
     "output_type": "stream",
     "text": [
      "[1 2 3 4]\n",
      "2\n"
     ]
    }
   ],
   "source": [
    "# Using a library\n",
    "import numpy as np\n",
    "\n",
    "arr = np.array([1, 2, 3, 4])\n",
    "print(arr)\n",
    "\n",
    "# Using a module\n",
    "import random\n",
    "\n",
    "x = random.randint(1, 10)\n",
    "print(x)\n"
   ]
  },
  {
   "cell_type": "code",
   "execution_count": 17,
   "id": "3e19dc53-e067-42e7-add9-7b0778eb6025",
   "metadata": {},
   "outputs": [
    {
     "data": {
      "text/plain": [
       "4"
      ]
     },
     "execution_count": 17,
     "metadata": {},
     "output_type": "execute_result"
    }
   ],
   "source": [
    "np.max(arr)"
   ]
  },
  {
   "cell_type": "code",
   "execution_count": 13,
   "id": "dfc5b549-daf6-4bba-abda-fa5b2ff7b9c4",
   "metadata": {},
   "outputs": [
    {
     "name": "stdout",
     "output_type": "stream",
     "text": [
      "[7 8 9]\n"
     ]
    }
   ],
   "source": [
    "a = np.array([[1, 2, 3], [4, 5, 6], [7, 8, 9]])\n",
    "print(a[2])"
   ]
  },
  {
   "cell_type": "code",
   "execution_count": 8,
   "id": "33c271aa-51bc-41a6-bcba-cb5f88093464",
   "metadata": {},
   "outputs": [
    {
     "name": "stdout",
     "output_type": "stream",
     "text": [
      "[[1 2 3]\n",
      " [7 8 9]]\n"
     ]
    }
   ],
   "source": [
    "# slice a numpy array\n",
    "b = a[[0, 2], :]\n",
    "print(b)"
   ]
  },
  {
   "cell_type": "markdown",
   "id": "ba627c10-7509-4f49-8464-5f5f78f64c6c",
   "metadata": {},
   "source": [
    "### Plotting in Python"
   ]
  },
  {
   "cell_type": "code",
   "execution_count": 18,
   "id": "8adf9e0c-eef0-4ae0-a8b3-c4b9924b8af6",
   "metadata": {},
   "outputs": [],
   "source": [
    "import matplotlib.pyplot as plt"
   ]
  },
  {
   "cell_type": "code",
   "execution_count": 19,
   "id": "9ff285a7-98ec-4b42-99d6-f042875a9add",
   "metadata": {},
   "outputs": [],
   "source": [
    "import numpy as np\n",
    "\n",
    "x = np.linspace(-5, 5, 100)\n",
    "y = x ** 2"
   ]
  },
  {
   "cell_type": "code",
   "execution_count": 20,
   "id": "aa508be4-0f50-489c-bfb3-bc401ad5a3ce",
   "metadata": {},
   "outputs": [
    {
     "data": {
      "text/plain": [
       "[<matplotlib.lines.Line2D at 0x7f822054e3a0>]"
      ]
     },
     "execution_count": 20,
     "metadata": {},
     "output_type": "execute_result"
    },
    {
     "data": {
      "image/png": "[encoded data removed]",
      "text/plain": [
       "<Figure size 432x288 with 1 Axes>"
      ]
     },
     "metadata": {
      "needs_background": "light"
     },
     "output_type": "display_data"
    }
   ],
   "source": [
    "plt.plot(x, y)"
   ]
  },
  {
   "cell_type": "code",
   "execution_count": 21,
   "id": "8949bd21-ac31-47b6-9d1a-0660cac06f83",
   "metadata": {},
   "outputs": [
    {
     "data": {
      "text/plain": [
       "<matplotlib.legend.Legend at 0x7f822049dfd0>"
      ]
     },
     "execution_count": 21,
     "metadata": {},
     "output_type": "execute_result"
    },
    {
     "data": {
      "image/png": "[encoded data removed]",
      "text/plain": [
       "<Figure size 432x288 with 1 Axes>"
      ]
     },
     "metadata": {
      "needs_background": "light"
     },
     "output_type": "display_data"
    }
   ],
   "source": [
    "# Adding labels\n",
    "plt.xlabel('X values')\n",
    "plt.ylabel('Y values')\n",
    "\n",
    "# Changing colors\n",
    "plt.plot(x, y, 'r')\n",
    "\n",
    "# Adding a title\n",
    "plt.title('y = x^2')\n",
    "\n",
    "# Changing the line style\n",
    "plt.plot(x, y, '--')\n",
    "\n",
    "# Adding a legend\n",
    "plt.plot(x, y, label='y = x^2')\n",
    "plt.legend()\n"
   ]
  },
  {
   "cell_type": "code",
   "execution_count": null,
   "id": "31cb5bd4-ca41-4cb3-8ca8-5cbe9e3bfb0d",
   "metadata": {},
   "outputs": [],
   "source": []
  }
 ],
 "metadata": {
  "kernelspec": {
   "display_name": "Python 3 (ipykernel)",
   "language": "python",
   "name": "python3"
  },
  "language_info": {
   "codemirror_mode": {
    "name": "ipython",
    "version": 3
   },
   "file_extension": ".py",
   "mimetype": "text/x-python",
   "name": "python",
   "nbconvert_exporter": "python",
   "pygments_lexer": "ipython3",
   "version": "3.9.7"
  }
 },
 "nbformat": 4,
 "nbformat_minor": 5
}
