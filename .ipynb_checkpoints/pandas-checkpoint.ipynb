{
 "cells": [
  {
   "cell_type": "markdown",
   "id": "9f63e610-bf01-4d33-ac92-32c807cb659d",
   "metadata": {},
   "source": [
    "# Introduction to Pandas"
   ]
  },
  {
   "cell_type": "markdown",
   "id": "070d17c5-8f41-4fab-929f-37a51a386783",
   "metadata": {},
   "source": [
    "Pandas is a Python library that provides data manipulation and analysis tools for tabular data (i.e., data that is organized in rows and columns)."
   ]
  },
  {
   "cell_type": "code",
   "execution_count": 1,
   "id": "285f6e9f-7ca3-413f-828c-e554b6065cce",
   "metadata": {},
   "outputs": [],
   "source": [
    "import pandas as pd"
   ]
  },
  {
   "cell_type": "code",
   "execution_count": 1,
   "id": "85ba4b93-4ebb-4e6a-b6f3-4554fc352417",
   "metadata": {},
   "outputs": [
    {
     "data": {
      "text/html": [
       "<div>\n",
       "<style scoped>\n",
       "    .dataframe tbody tr th:only-of-type {\n",
       "        vertical-align: middle;\n",
       "    }\n",
       "\n",
       "    .dataframe tbody tr th {\n",
       "        vertical-align: top;\n",
       "    }\n",
       "\n",
       "    .dataframe thead th {\n",
       "        text-align: right;\n",
       "    }\n",
       "</style>\n",
       "<table border=\"1\" class=\"dataframe\">\n",
       "  <thead>\n",
       "    <tr style=\"text-align: right;\">\n",
       "      <th></th>\n",
       "      <th>Date</th>\n",
       "      <th>Country</th>\n",
       "      <th>Confirmed</th>\n",
       "      <th>Recovered</th>\n",
       "      <th>Deaths</th>\n",
       "    </tr>\n",
       "  </thead>\n",
       "  <tbody>\n",
       "    <tr>\n",
       "      <th>0</th>\n",
       "      <td>2020-01-22</td>\n",
       "      <td>Afghanistan</td>\n",
       "      <td>0</td>\n",
       "      <td>0</td>\n",
       "      <td>0</td>\n",
       "    </tr>\n",
       "    <tr>\n",
       "      <th>1</th>\n",
       "      <td>2020-01-23</td>\n",
       "      <td>Afghanistan</td>\n",
       "      <td>0</td>\n",
       "      <td>0</td>\n",
       "      <td>0</td>\n",
       "    </tr>\n",
       "    <tr>\n",
       "      <th>2</th>\n",
       "      <td>2020-01-24</td>\n",
       "      <td>Afghanistan</td>\n",
       "      <td>0</td>\n",
       "      <td>0</td>\n",
       "      <td>0</td>\n",
       "    </tr>\n",
       "    <tr>\n",
       "      <th>3</th>\n",
       "      <td>2020-01-25</td>\n",
       "      <td>Afghanistan</td>\n",
       "      <td>0</td>\n",
       "      <td>0</td>\n",
       "      <td>0</td>\n",
       "    </tr>\n",
       "    <tr>\n",
       "      <th>4</th>\n",
       "      <td>2020-01-26</td>\n",
       "      <td>Afghanistan</td>\n",
       "      <td>0</td>\n",
       "      <td>0</td>\n",
       "      <td>0</td>\n",
       "    </tr>\n",
       "    <tr>\n",
       "      <th>...</th>\n",
       "      <td>...</td>\n",
       "      <td>...</td>\n",
       "      <td>...</td>\n",
       "      <td>...</td>\n",
       "      <td>...</td>\n",
       "    </tr>\n",
       "    <tr>\n",
       "      <th>161563</th>\n",
       "      <td>2022-04-12</td>\n",
       "      <td>Zimbabwe</td>\n",
       "      <td>247094</td>\n",
       "      <td>0</td>\n",
       "      <td>5460</td>\n",
       "    </tr>\n",
       "    <tr>\n",
       "      <th>161564</th>\n",
       "      <td>2022-04-13</td>\n",
       "      <td>Zimbabwe</td>\n",
       "      <td>247160</td>\n",
       "      <td>0</td>\n",
       "      <td>5460</td>\n",
       "    </tr>\n",
       "    <tr>\n",
       "      <th>161565</th>\n",
       "      <td>2022-04-14</td>\n",
       "      <td>Zimbabwe</td>\n",
       "      <td>247208</td>\n",
       "      <td>0</td>\n",
       "      <td>5462</td>\n",
       "    </tr>\n",
       "    <tr>\n",
       "      <th>161566</th>\n",
       "      <td>2022-04-15</td>\n",
       "      <td>Zimbabwe</td>\n",
       "      <td>247237</td>\n",
       "      <td>0</td>\n",
       "      <td>5462</td>\n",
       "    </tr>\n",
       "    <tr>\n",
       "      <th>161567</th>\n",
       "      <td>2022-04-16</td>\n",
       "      <td>Zimbabwe</td>\n",
       "      <td>247237</td>\n",
       "      <td>0</td>\n",
       "      <td>5462</td>\n",
       "    </tr>\n",
       "  </tbody>\n",
       "</table>\n",
       "<p>161568 rows × 5 columns</p>\n",
       "</div>"
      ],
      "text/plain": [
       "              Date      Country  Confirmed  Recovered  Deaths\n",
       "0       2020-01-22  Afghanistan          0          0       0\n",
       "1       2020-01-23  Afghanistan          0          0       0\n",
       "2       2020-01-24  Afghanistan          0          0       0\n",
       "3       2020-01-25  Afghanistan          0          0       0\n",
       "4       2020-01-26  Afghanistan          0          0       0\n",
       "...            ...          ...        ...        ...     ...\n",
       "161563  2022-04-12     Zimbabwe     247094          0    5460\n",
       "161564  2022-04-13     Zimbabwe     247160          0    5460\n",
       "161565  2022-04-14     Zimbabwe     247208          0    5462\n",
       "161566  2022-04-15     Zimbabwe     247237          0    5462\n",
       "161567  2022-04-16     Zimbabwe     247237          0    5462\n",
       "\n",
       "[161568 rows x 5 columns]"
      ]
     },
     "execution_count": 1,
     "metadata": {},
     "output_type": "execute_result"
    }
   ],
   "source": [
    "import pandas as pd\n",
    "import numpy as np\n",
    "# Load the dataset from a URL\n",
    "url = 'https://raw.githubusercontent.com/datasets/covid-19/main/data/countries-aggregated.csv'\n",
    "df = pd.read_csv(url)\n",
    "\n",
    "df"
   ]
  },
  {
   "cell_type": "code",
   "execution_count": 4,
   "id": "b29702e5-3bc4-4e63-b63a-99976fe3e445",
   "metadata": {},
   "outputs": [
    {
     "name": "stdout",
     "output_type": "stream",
     "text": [
      "         Date      Country  Confirmed  Recovered  Deaths\n",
      "0  2020-01-22  Afghanistan          0          0       0\n",
      "1  2020-01-23  Afghanistan          0          0       0\n",
      "2  2020-01-24  Afghanistan          0          0       0\n",
      "3  2020-01-25  Afghanistan          0          0       0\n",
      "4  2020-01-26  Afghanistan          0          0       0\n"
     ]
    }
   ],
   "source": [
    "# Explore the data\n",
    "print(df.head()) # Print the first 5 rows of the DataFrame"
   ]
  },
  {
   "cell_type": "code",
   "execution_count": 2,
   "id": "81b08899-808b-4483-bacb-8fb08519d6b4",
   "metadata": {},
   "outputs": [
    {
     "data": {
      "text/plain": [
       "Index(['Date', 'Country', 'Confirmed', 'Recovered', 'Deaths'], dtype='object')"
      ]
     },
     "execution_count": 2,
     "metadata": {},
     "output_type": "execute_result"
    }
   ],
   "source": [
    "df.columns"
   ]
  },
  {
   "cell_type": "code",
   "execution_count": 5,
   "id": "d088edc4-b08a-41dd-bf3b-8b46334683e4",
   "metadata": {},
   "outputs": [
    {
     "name": "stdout",
     "output_type": "stream",
     "text": [
      "<class 'pandas.core.frame.DataFrame'>\n",
      "RangeIndex: 161568 entries, 0 to 161567\n",
      "Data columns (total 5 columns):\n",
      " #   Column     Non-Null Count   Dtype \n",
      "---  ------     --------------   ----- \n",
      " 0   Date       161568 non-null  object\n",
      " 1   Country    161568 non-null  object\n",
      " 2   Confirmed  161568 non-null  int64 \n",
      " 3   Recovered  161568 non-null  int64 \n",
      " 4   Deaths     161568 non-null  int64 \n",
      "dtypes: int64(3), object(2)\n",
      "memory usage: 6.2+ MB\n",
      "None\n"
     ]
    }
   ],
   "source": [
    "print(df.info()) # Print information about the DataFrame"
   ]
  },
  {
   "cell_type": "code",
   "execution_count": 5,
   "id": "0abf4ade-4127-4b66-b9a8-da43a79cd713",
   "metadata": {},
   "outputs": [
    {
     "data": {
      "text/plain": [
       "0         Afghanistan\n",
       "1         Afghanistan\n",
       "2         Afghanistan\n",
       "3         Afghanistan\n",
       "4         Afghanistan\n",
       "             ...     \n",
       "161563       Zimbabwe\n",
       "161564       Zimbabwe\n",
       "161565       Zimbabwe\n",
       "161566       Zimbabwe\n",
       "161567       Zimbabwe\n",
       "Name: Country, Length: 161568, dtype: object"
      ]
     },
     "execution_count": 10,
     "metadata": {},
     "output_type": "execute_result"
    }
   ],
   "source": [
    "df['Country'][0:5]"
   ]
  },
  {
   "cell_type": "code",
   "execution_count": 6,
   "id": "23753582-e7ed-4368-b199-15aeeda3d091",
   "metadata": {},
   "outputs": [],
   "source": [
    "# Manipulate the data\n",
    "df_filtered = df[df['Country'] == 'Germany'] # Filter the DataFrame to only include rows where the country is Germany"
   ]
  },
  {
   "cell_type": "code",
   "execution_count": 7,
   "id": "5b9b42f4-5ecb-4a16-9201-63068c3aa2f6",
   "metadata": {},
   "outputs": [
    {
     "data": {
      "text/html": [
       "<div>\n",
       "<style scoped>\n",
       "    .dataframe tbody tr th:only-of-type {\n",
       "        vertical-align: middle;\n",
       "    }\n",
       "\n",
       "    .dataframe tbody tr th {\n",
       "        vertical-align: top;\n",
       "    }\n",
       "\n",
       "    .dataframe thead th {\n",
       "        text-align: right;\n",
       "    }\n",
       "</style>\n",
       "<table border=\"1\" class=\"dataframe\">\n",
       "  <thead>\n",
       "    <tr style=\"text-align: right;\">\n",
       "      <th></th>\n",
       "      <th>Date</th>\n",
       "      <th>Country</th>\n",
       "      <th>Confirmed</th>\n",
       "      <th>Recovered</th>\n",
       "      <th>Deaths</th>\n",
       "    </tr>\n",
       "  </thead>\n",
       "  <tbody>\n",
       "    <tr>\n",
       "      <th>54672</th>\n",
       "      <td>2020-01-22</td>\n",
       "      <td>Germany</td>\n",
       "      <td>0</td>\n",
       "      <td>0</td>\n",
       "      <td>0</td>\n",
       "    </tr>\n",
       "    <tr>\n",
       "      <th>54673</th>\n",
       "      <td>2020-01-23</td>\n",
       "      <td>Germany</td>\n",
       "      <td>0</td>\n",
       "      <td>0</td>\n",
       "      <td>0</td>\n",
       "    </tr>\n",
       "    <tr>\n",
       "      <th>54674</th>\n",
       "      <td>2020-01-24</td>\n",
       "      <td>Germany</td>\n",
       "      <td>0</td>\n",
       "      <td>0</td>\n",
       "      <td>0</td>\n",
       "    </tr>\n",
       "    <tr>\n",
       "      <th>54675</th>\n",
       "      <td>2020-01-25</td>\n",
       "      <td>Germany</td>\n",
       "      <td>0</td>\n",
       "      <td>0</td>\n",
       "      <td>0</td>\n",
       "    </tr>\n",
       "    <tr>\n",
       "      <th>54676</th>\n",
       "      <td>2020-01-26</td>\n",
       "      <td>Germany</td>\n",
       "      <td>0</td>\n",
       "      <td>0</td>\n",
       "      <td>0</td>\n",
       "    </tr>\n",
       "    <tr>\n",
       "      <th>...</th>\n",
       "      <td>...</td>\n",
       "      <td>...</td>\n",
       "      <td>...</td>\n",
       "      <td>...</td>\n",
       "      <td>...</td>\n",
       "    </tr>\n",
       "    <tr>\n",
       "      <th>55483</th>\n",
       "      <td>2022-04-12</td>\n",
       "      <td>Germany</td>\n",
       "      <td>23017079</td>\n",
       "      <td>0</td>\n",
       "      <td>132378</td>\n",
       "    </tr>\n",
       "    <tr>\n",
       "      <th>55484</th>\n",
       "      <td>2022-04-13</td>\n",
       "      <td>Germany</td>\n",
       "      <td>23182447</td>\n",
       "      <td>0</td>\n",
       "      <td>132688</td>\n",
       "    </tr>\n",
       "    <tr>\n",
       "      <th>55485</th>\n",
       "      <td>2022-04-14</td>\n",
       "      <td>Germany</td>\n",
       "      <td>23339311</td>\n",
       "      <td>0</td>\n",
       "      <td>132900</td>\n",
       "    </tr>\n",
       "    <tr>\n",
       "      <th>55486</th>\n",
       "      <td>2022-04-15</td>\n",
       "      <td>Germany</td>\n",
       "      <td>23376879</td>\n",
       "      <td>0</td>\n",
       "      <td>132929</td>\n",
       "    </tr>\n",
       "    <tr>\n",
       "      <th>55487</th>\n",
       "      <td>2022-04-16</td>\n",
       "      <td>Germany</td>\n",
       "      <td>23416663</td>\n",
       "      <td>0</td>\n",
       "      <td>132942</td>\n",
       "    </tr>\n",
       "  </tbody>\n",
       "</table>\n",
       "<p>816 rows × 5 columns</p>\n",
       "</div>"
      ],
      "text/plain": [
       "             Date  Country  Confirmed  Recovered  Deaths\n",
       "54672  2020-01-22  Germany          0          0       0\n",
       "54673  2020-01-23  Germany          0          0       0\n",
       "54674  2020-01-24  Germany          0          0       0\n",
       "54675  2020-01-25  Germany          0          0       0\n",
       "54676  2020-01-26  Germany          0          0       0\n",
       "...           ...      ...        ...        ...     ...\n",
       "55483  2022-04-12  Germany   23017079          0  132378\n",
       "55484  2022-04-13  Germany   23182447          0  132688\n",
       "55485  2022-04-14  Germany   23339311          0  132900\n",
       "55486  2022-04-15  Germany   23376879          0  132929\n",
       "55487  2022-04-16  Germany   23416663          0  132942\n",
       "\n",
       "[816 rows x 5 columns]"
      ]
     },
     "execution_count": 7,
     "metadata": {},
     "output_type": "execute_result"
    }
   ],
   "source": [
    "df_filtered"
   ]
  },
  {
   "cell_type": "code",
   "execution_count": 8,
   "id": "77d0e632-7f73-4309-a052-8872d3d0567b",
   "metadata": {},
   "outputs": [
    {
     "name": "stdout",
     "output_type": "stream",
     "text": [
      "              Date Country  Confirmed  Recovered  Deaths\n",
      "150143  2022-04-16      US   80625120          0  988609\n",
      "150142  2022-04-15      US   80612681          0  988558\n",
      "150141  2022-04-14      US   80573532          0  988121\n",
      "150140  2022-04-13      US   80518989          0  987343\n",
      "150139  2022-04-12      US   80477797          0  986387\n"
     ]
    }
   ],
   "source": [
    "df_sorted = df.sort_values('Confirmed', ascending=False) # Sort the DataFrame by the number of confirmed cases in descending order\n",
    "print(df_sorted.head())"
   ]
  },
  {
   "cell_type": "code",
   "execution_count": 9,
   "id": "d3756322-6eea-4709-823c-68b80c75cef3",
   "metadata": {},
   "outputs": [
    {
     "name": "stdout",
     "output_type": "stream",
     "text": [
      "                      Confirmed  Recovered   Deaths\n",
      "Country                                            \n",
      "Afghanistan            66031705   18289880  2874099\n",
      "Albania                82385140   22652652  1320658\n",
      "Algeria                94695072   25670233  2651996\n",
      "Andorra                 9598486    3085649    75889\n",
      "Angola                 26425596    5895800   605294\n",
      "...                         ...        ...      ...\n",
      "West Bank and Gaza    187339576   57608773  1893801\n",
      "Winter Olympics 2022      39517          0        0\n",
      "Yemen                   3987738     772497   810844\n",
      "Zambia                 87545852   21852796  1318781\n",
      "Zimbabwe               56346213    8779035  1633790\n",
      "\n",
      "[198 rows x 3 columns]\n"
     ]
    }
   ],
   "source": [
    "df_grouped = df.groupby('Country').sum() # Group the DataFrame by country and calculate the sum of each group\n",
    "print(df_grouped)"
   ]
  },
  {
   "cell_type": "code",
   "execution_count": 6,
   "id": "d1ba8b87-9c88-47c1-8523-5166d3c6d2a7",
   "metadata": {},
   "outputs": [
    {
     "name": "stdout",
     "output_type": "stream",
     "text": [
      "          Confirmed     Recovered         Deaths\n",
      "count  1.615680e+05  1.615680e+05  161568.000000\n",
      "mean   7.361569e+05  1.453967e+05   13999.436089\n",
      "std    3.578884e+06  9.748275e+05   59113.581271\n",
      "min    0.000000e+00  0.000000e+00       0.000000\n",
      "25%    1.220000e+03  0.000000e+00      17.000000\n",
      "50%    2.369200e+04  1.260000e+02     365.000000\n",
      "75%    2.558420e+05  1.797225e+04    4509.000000\n",
      "max    8.062512e+07  3.097475e+07  988609.000000\n"
     ]
    }
   ],
   "source": [
    "print(df.describe()) # Generate descriptive statistics for the DataFrame"
   ]
  },
  {
   "cell_type": "code",
   "execution_count": 12,
   "id": "44fdaea6-34d2-409f-9615-c60c4d0353d9",
   "metadata": {},
   "outputs": [
    {
     "data": {
      "text/html": [
       "<div>\n",
       "<style scoped>\n",
       "    .dataframe tbody tr th:only-of-type {\n",
       "        vertical-align: middle;\n",
       "    }\n",
       "\n",
       "    .dataframe tbody tr th {\n",
       "        vertical-align: top;\n",
       "    }\n",
       "\n",
       "    .dataframe thead th {\n",
       "        text-align: right;\n",
       "    }\n",
       "</style>\n",
       "<table border=\"1\" class=\"dataframe\">\n",
       "  <thead>\n",
       "    <tr style=\"text-align: right;\">\n",
       "      <th></th>\n",
       "      <th>Confirmed</th>\n",
       "      <th>Deaths</th>\n",
       "    </tr>\n",
       "  </thead>\n",
       "  <tbody>\n",
       "    <tr>\n",
       "      <th>0</th>\n",
       "      <td>0</td>\n",
       "      <td>0</td>\n",
       "    </tr>\n",
       "    <tr>\n",
       "      <th>1</th>\n",
       "      <td>0</td>\n",
       "      <td>0</td>\n",
       "    </tr>\n",
       "    <tr>\n",
       "      <th>2</th>\n",
       "      <td>0</td>\n",
       "      <td>0</td>\n",
       "    </tr>\n",
       "    <tr>\n",
       "      <th>3</th>\n",
       "      <td>0</td>\n",
       "      <td>0</td>\n",
       "    </tr>\n",
       "    <tr>\n",
       "      <th>4</th>\n",
       "      <td>0</td>\n",
       "      <td>0</td>\n",
       "    </tr>\n",
       "    <tr>\n",
       "      <th>...</th>\n",
       "      <td>...</td>\n",
       "      <td>...</td>\n",
       "    </tr>\n",
       "    <tr>\n",
       "      <th>161563</th>\n",
       "      <td>247094</td>\n",
       "      <td>5460</td>\n",
       "    </tr>\n",
       "    <tr>\n",
       "      <th>161564</th>\n",
       "      <td>247160</td>\n",
       "      <td>5460</td>\n",
       "    </tr>\n",
       "    <tr>\n",
       "      <th>161565</th>\n",
       "      <td>247208</td>\n",
       "      <td>5462</td>\n",
       "    </tr>\n",
       "    <tr>\n",
       "      <th>161566</th>\n",
       "      <td>247237</td>\n",
       "      <td>5462</td>\n",
       "    </tr>\n",
       "    <tr>\n",
       "      <th>161567</th>\n",
       "      <td>247237</td>\n",
       "      <td>5462</td>\n",
       "    </tr>\n",
       "  </tbody>\n",
       "</table>\n",
       "<p>161568 rows × 2 columns</p>\n",
       "</div>"
      ],
      "text/plain": [
       "        Confirmed  Deaths\n",
       "0               0       0\n",
       "1               0       0\n",
       "2               0       0\n",
       "3               0       0\n",
       "4               0       0\n",
       "...           ...     ...\n",
       "161563     247094    5460\n",
       "161564     247160    5460\n",
       "161565     247208    5462\n",
       "161566     247237    5462\n",
       "161567     247237    5462\n",
       "\n",
       "[161568 rows x 2 columns]"
      ]
     },
     "execution_count": 12,
     "metadata": {},
     "output_type": "execute_result"
    }
   ],
   "source": [
    "df[['Confirmed','Deaths']]"
   ]
  },
  {
   "cell_type": "code",
   "execution_count": 15,
   "id": "51200ad7-455d-427a-852c-683d34b262ae",
   "metadata": {},
   "outputs": [],
   "source": [
    "# Calculate descriptive statistics\n",
    "mean = df['Confirmed'].mean()\n",
    "median = df['Confirmed'].median()\n",
    "std = df['Confirmed'].std()\n",
    "var = df['Confirmed'].var()\n",
    "\n",
    "# Calculate correlation\n",
    "corr = df[['Confirmed','Deaths']].corr()\n",
    "\n",
    "# Calculate covariance\n",
    "cov = df[['Confirmed','Deaths']].cov()\n",
    "\n",
    "# Calculate percentile\n",
    "percentile = np.percentile(df['Confirmed'], [25, 50, 75])"
   ]
  },
  {
   "cell_type": "code",
   "execution_count": 16,
   "id": "5ea0dd62-ffb0-4a9f-9965-91cb0483cae2",
   "metadata": {},
   "outputs": [
    {
     "name": "stdout",
     "output_type": "stream",
     "text": [
      "Mean:\n",
      "736156.9340092097\n",
      "\n",
      "Median:\n",
      "23692.0\n",
      "\n",
      "Standard Deviation:\n",
      "3578884.2226688266\n",
      "\n",
      "Variance:\n",
      "12808412279267.85\n",
      "\n",
      "Correlation:\n",
      "           Confirmed    Deaths\n",
      "Confirmed   1.000000  0.914993\n",
      "Deaths      0.914993  1.000000\n",
      "\n",
      "Covariance:\n",
      "              Confirmed        Deaths\n",
      "Confirmed  1.280841e+13  1.935765e+11\n",
      "Deaths     1.935765e+11  3.494415e+09\n",
      "\n",
      "25th, 50th, and 75th percentiles of Petal Length:\n",
      "[  1220.  23692. 255842.]\n"
     ]
    }
   ],
   "source": [
    "# Print the results\n",
    "print('Mean:')\n",
    "print(mean)\n",
    "print('\\nMedian:')\n",
    "print(median)\n",
    "print('\\nStandard Deviation:')\n",
    "print(std)\n",
    "print('\\nVariance:')\n",
    "print(var)\n",
    "print('\\nCorrelation:')\n",
    "print(corr)\n",
    "print('\\nCovariance:')\n",
    "print(cov)\n",
    "print('\\n25th, 50th, and 75th percentiles of Petal Length:')\n",
    "print(percentile)\n"
   ]
  },
  {
   "cell_type": "code",
   "execution_count": 17,
   "id": "fac421bb-de31-41b4-9f28-16bdd6a6615f",
   "metadata": {},
   "outputs": [],
   "source": [
    "import pandas as pd\n",
    "\n",
    "# Define the data as a list of dictionaries\n",
    "data = [\n",
    "    {'name': 'John', 'age': 35, 'gender': 'Male', 'salary': 50000, 'address': '123 Main St'},\n",
    "    {'name': 'Mary', 'age': 27, 'gender': 'Female', 'salary': 60000, 'address': '456 Park Ave'},\n",
    "    {'name': 'Bob', 'age': 42, 'gender': 'Male', 'salary': 75000, 'address': '789 Elm St'},\n",
    "    {'name': 'Jane', 'age': 30, 'gender': 'Female', 'salary': 65000, 'address': '321 Oak St'},\n",
    "    {'name': 'Mark', 'age': 45, 'gender': 'Male', 'salary': 80000, 'address': '654 Pine St'}\n",
    "]\n",
    "\n",
    "# Convert the data to a Pandas dataframe\n",
    "df = pd.DataFrame(data)\n",
    "\n",
    "# Save the dataframe to a CSV file\n",
    "df.to_csv('data.csv', index=False)"
   ]
  },
  {
   "cell_type": "code",
   "execution_count": 18,
   "id": "c468e665-1320-40b3-a8e1-6fddef8ded33",
   "metadata": {},
   "outputs": [],
   "source": [
    "import pandas as pd\n",
    "\n",
    "# Load the dataset from a CSV file\n",
    "df = pd.read_csv('data.csv')\n",
    "\n",
    "# Filter rows based on a condition\n",
    "filtered = df[df['age'] > 30]\n",
    "\n",
    "# Sort the rows by a column\n",
    "sorted = df.sort_values(by='age')\n",
    "\n",
    "# Group the rows by a column and calculate aggregate values\n",
    "grouped = df.groupby('gender').agg({'salary': ['mean', 'min', 'max']})\n",
    "\n",
    "\n",
    "# Rename column names\n",
    "df = df.rename(columns={'age': 'age_years'})\n",
    "\n",
    "# Drop a column\n",
    "df = df.drop(columns=['address'])\n",
    "\n",
    "# Create a new column based on a calculation\n",
    "df['salary_usd'] = df['salary'] / 2\n"
   ]
  },
  {
   "cell_type": "markdown",
   "id": "3ad3b298-0607-4933-8e2a-869905f0c741",
   "metadata": {
    "tags": []
   },
   "source": [
    "# Visulization with Pandas"
   ]
  },
  {
   "cell_type": "code",
   "execution_count": 19,
   "id": "c9194cf5-ac6d-4449-869f-3b2966c6afad",
   "metadata": {},
   "outputs": [],
   "source": [
    "import pandas as pd\n",
    "import matplotlib.pyplot as plt\n",
    "\n",
    "# Load the data into a Pandas dataframe\n",
    "df = pd.read_csv('https://raw.githubusercontent.com/mwaskom/seaborn-data/master/tips.csv')\n"
   ]
  },
  {
   "cell_type": "code",
   "execution_count": 25,
   "id": "e21c5f89-e66a-4144-abe6-fae51349f490",
   "metadata": {},
   "outputs": [
    {
     "data": {
      "text/html": [
       "<div>\n",
       "<style scoped>\n",
       "    .dataframe tbody tr th:only-of-type {\n",
       "        vertical-align: middle;\n",
       "    }\n",
       "\n",
       "    .dataframe tbody tr th {\n",
       "        vertical-align: top;\n",
       "    }\n",
       "\n",
       "    .dataframe thead th {\n",
       "        text-align: right;\n",
       "    }\n",
       "</style>\n",
       "<table border=\"1\" class=\"dataframe\">\n",
       "  <thead>\n",
       "    <tr style=\"text-align: right;\">\n",
       "      <th></th>\n",
       "      <th>total_bill</th>\n",
       "      <th>tip</th>\n",
       "      <th>sex</th>\n",
       "      <th>smoker</th>\n",
       "      <th>day</th>\n",
       "      <th>time</th>\n",
       "      <th>size</th>\n",
       "    </tr>\n",
       "  </thead>\n",
       "  <tbody>\n",
       "    <tr>\n",
       "      <th>0</th>\n",
       "      <td>16.99</td>\n",
       "      <td>1.01</td>\n",
       "      <td>Female</td>\n",
       "      <td>No</td>\n",
       "      <td>Sun</td>\n",
       "      <td>Dinner</td>\n",
       "      <td>2</td>\n",
       "    </tr>\n",
       "    <tr>\n",
       "      <th>1</th>\n",
       "      <td>10.34</td>\n",
       "      <td>1.66</td>\n",
       "      <td>Male</td>\n",
       "      <td>No</td>\n",
       "      <td>Sun</td>\n",
       "      <td>Dinner</td>\n",
       "      <td>3</td>\n",
       "    </tr>\n",
       "    <tr>\n",
       "      <th>2</th>\n",
       "      <td>21.01</td>\n",
       "      <td>3.50</td>\n",
       "      <td>Male</td>\n",
       "      <td>No</td>\n",
       "      <td>Sun</td>\n",
       "      <td>Dinner</td>\n",
       "      <td>3</td>\n",
       "    </tr>\n",
       "    <tr>\n",
       "      <th>3</th>\n",
       "      <td>23.68</td>\n",
       "      <td>3.31</td>\n",
       "      <td>Male</td>\n",
       "      <td>No</td>\n",
       "      <td>Sun</td>\n",
       "      <td>Dinner</td>\n",
       "      <td>2</td>\n",
       "    </tr>\n",
       "    <tr>\n",
       "      <th>4</th>\n",
       "      <td>24.59</td>\n",
       "      <td>3.61</td>\n",
       "      <td>Female</td>\n",
       "      <td>No</td>\n",
       "      <td>Sun</td>\n",
       "      <td>Dinner</td>\n",
       "      <td>4</td>\n",
       "    </tr>\n",
       "  </tbody>\n",
       "</table>\n",
       "</div>"
      ],
      "text/plain": [
       "   total_bill   tip     sex smoker  day    time  size\n",
       "0       16.99  1.01  Female     No  Sun  Dinner     2\n",
       "1       10.34  1.66    Male     No  Sun  Dinner     3\n",
       "2       21.01  3.50    Male     No  Sun  Dinner     3\n",
       "3       23.68  3.31    Male     No  Sun  Dinner     2\n",
       "4       24.59  3.61  Female     No  Sun  Dinner     4"
      ]
     },
     "execution_count": 25,
     "metadata": {},
     "output_type": "execute_result"
    }
   ],
   "source": [
    "df.head()"
   ]
  },
  {
   "cell_type": "code",
   "execution_count": 26,
   "id": "2ab49f70-ac00-400f-8644-c0e1b6f7ed5f",
   "metadata": {},
   "outputs": [
    {
     "data": {
      "image/png": "[encoded data removed]",
      "text/plain": [
       "<Figure size 576x432 with 1 Axes>"
      ]
     },
     "metadata": {
      "needs_background": "light"
     },
     "output_type": "display_data"
    }
   ],
   "source": [
    "# Group the data by day and calculate the average total bill and tip amount\n",
    "df_grouped = df.groupby('day')[['total_bill', 'tip']].mean()\n",
    "\n",
    "# Create a bar chart of the average total bill and tip amount by day\n",
    "ax = df_grouped.plot(kind='bar', figsize=(8, 6), width=0.8)\n",
    "\n",
    "# Set the axis labels and title\n",
    "ax.set_xlabel('Day')\n",
    "ax.set_ylabel('Amount ($)')\n",
    "ax.set_title('Average Total Bill and Tip Amount by Day')\n",
    "\n",
    "# Add a legend to the chart\n",
    "ax.legend(['Total Bill', 'Tip'])\n",
    "\n",
    "# Display the chart\n",
    "plt.show()"
   ]
  },
  {
   "cell_type": "code",
   "execution_count": 28,
   "id": "99d9bd40-745b-46b9-b23c-55ee7b2a272d",
   "metadata": {},
   "outputs": [
    {
     "name": "stdout",
     "output_type": "stream",
     "text": [
      "Collecting geopandas\n",
      "  Using cached geopandas-0.12.2-py3-none-any.whl (1.1 MB)\n",
      "Collecting fiona>=1.8\n",
      "  Using cached Fiona-1.9.2-cp39-cp39-manylinux_2_17_x86_64.manylinux2014_x86_64.whl (16.1 MB)\n",
      "Requirement already satisfied: pandas>=1.0.0 in /opt/conda/lib/python3.9/site-packages (from geopandas) (1.3.4)\n",
      "Collecting shapely>=1.7\n",
      "  Using cached shapely-2.0.1-cp39-cp39-manylinux_2_17_x86_64.manylinux2014_x86_64.whl (2.3 MB)\n",
      "Collecting pyproj>=2.6.1.post1\n",
      "  Downloading pyproj-3.5.0-cp39-cp39-manylinux_2_17_x86_64.manylinux2014_x86_64.whl (7.8 MB)\n",
      "     |████████████████████████████████| 7.8 MB 6.9 MB/s            \n",
      "\u001b[?25hRequirement already satisfied: packaging in /opt/conda/lib/python3.9/site-packages (from geopandas) (21.2)\n",
      "Requirement already satisfied: attrs>=19.2.0 in /opt/conda/lib/python3.9/site-packages (from fiona>=1.8->geopandas) (21.2.0)\n",
      "Collecting click-plugins>=1.0\n",
      "  Using cached click_plugins-1.1.1-py2.py3-none-any.whl (7.5 kB)\n",
      "Requirement already satisfied: click~=8.0 in /opt/conda/lib/python3.9/site-packages (from fiona>=1.8->geopandas) (8.0.3)\n",
      "Collecting cligj>=0.5\n",
      "  Using cached cligj-0.7.2-py3-none-any.whl (7.1 kB)\n",
      "Collecting munch>=2.3.2\n",
      "  Using cached munch-2.5.0-py2.py3-none-any.whl (10 kB)\n",
      "Requirement already satisfied: importlib-metadata in /opt/conda/lib/python3.9/site-packages (from fiona>=1.8->geopandas) (4.8.2)\n",
      "Requirement already satisfied: certifi in /opt/conda/lib/python3.9/site-packages (from fiona>=1.8->geopandas) (2021.10.8)\n",
      "Requirement already satisfied: python-dateutil>=2.7.3 in /opt/conda/lib/python3.9/site-packages (from pandas>=1.0.0->geopandas) (2.8.2)\n",
      "Requirement already satisfied: pytz>=2017.3 in /opt/conda/lib/python3.9/site-packages (from pandas>=1.0.0->geopandas) (2021.3)\n",
      "Requirement already satisfied: numpy>=1.17.3 in /opt/conda/lib/python3.9/site-packages (from pandas>=1.0.0->geopandas) (1.20.3)\n",
      "Requirement already satisfied: pyparsing<3,>=2.0.2 in /opt/conda/lib/python3.9/site-packages (from packaging->geopandas) (2.4.7)\n",
      "Requirement already satisfied: six in /opt/conda/lib/python3.9/site-packages (from munch>=2.3.2->fiona>=1.8->geopandas) (1.16.0)\n",
      "Requirement already satisfied: zipp>=0.5 in /opt/conda/lib/python3.9/site-packages (from importlib-metadata->fiona>=1.8->geopandas) (3.6.0)\n",
      "Installing collected packages: munch, cligj, click-plugins, shapely, pyproj, fiona, geopandas\n",
      "Successfully installed click-plugins-1.1.1 cligj-0.7.2 fiona-1.9.2 geopandas-0.12.2 munch-2.5.0 pyproj-3.5.0 shapely-2.0.1\n"
     ]
    }
   ],
   "source": [
    "!pip install geopandas"
   ]
  },
  {
   "cell_type": "code",
   "execution_count": 29,
   "id": "02ffb670-3e9b-4b00-aad4-c66e61798245",
   "metadata": {},
   "outputs": [
    {
     "data": {
      "image/png": "[encoded data removed]",
      "text/plain": [
       "<Figure size 1080x720 with 2 Axes>"
      ]
     },
     "metadata": {
      "needs_background": "light"
     },
     "output_type": "display_data"
    }
   ],
   "source": [
    "import pandas as pd\n",
    "import matplotlib.pyplot as plt\n",
    "import geopandas as gpd\n",
    "\n",
    "# Load the dataset into a Pandas dataframe\n",
    "df = pd.read_csv('https://raw.githubusercontent.com/datasets/covid-19/main/data/countries-aggregated.csv', \n",
    "                 parse_dates=['Date'])\n",
    "\n",
    "# Group the data by country and date, and calculate the total confirmed cases\n",
    "df_total_cases = df.groupby(['Country', 'Date']).sum()[['Confirmed']]\n",
    "\n",
    "# Reset the index to make the country and date columns into regular columns\n",
    "df_total_cases = df_total_cases.reset_index()\n",
    "\n",
    "# Filter the data to keep only the most recent date\n",
    "most_recent_date = df_total_cases['Date'].max()\n",
    "df_total_cases = df_total_cases[df_total_cases['Date'] == most_recent_date]\n",
    "\n",
    "# Load the world map shapefile\n",
    "world = gpd.read_file(gpd.datasets.get_path('naturalearth_lowres'))\n",
    "\n",
    "# Merge the world map with the total cases dataframe\n",
    "df_map = world.merge(df_total_cases, how='left', left_on='name', right_on='Country')\n",
    "\n",
    "# Create a choropleth map of the world, showing the total confirmed cases for each country\n",
    "fig, ax = plt.subplots(figsize=(15, 10))\n",
    "df_map.plot(column='Confirmed', cmap='Reds', linewidth=0.8, ax=ax, edgecolor='0.8', legend=True)\n",
    "ax.axis('off')\n",
    "ax.set_title('Total Confirmed Cases of COVID-19 (as of {})'.format(most_recent_date.strftime('%Y-%m-%d')), \n",
    "             fontdict={'fontsize': '25', 'fontweight' : '3'})\n",
    "\n",
    "# Display the map\n",
    "plt.show()\n"
   ]
  },
  {
   "cell_type": "code",
   "execution_count": null,
   "id": "1b6667a9-d5e1-4462-875c-72d0c17dc944",
   "metadata": {},
   "outputs": [],
   "source": []
  }
 ],
 "metadata": {
  "kernelspec": {
   "display_name": "Python 3 (ipykernel)",
   "language": "python",
   "name": "python3"
  },
  "language_info": {
   "codemirror_mode": {
    "name": "ipython",
    "version": 3
   },
   "file_extension": ".py",
   "mimetype": "text/x-python",
   "name": "python",
   "nbconvert_exporter": "python",
   "pygments_lexer": "ipython3",
   "version": "3.9.7"
  }
 },
 "nbformat": 4,
 "nbformat_minor": 5
}
