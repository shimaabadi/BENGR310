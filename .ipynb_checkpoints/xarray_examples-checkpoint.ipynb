{
 "cells": [
  {
   "cell_type": "code",
   "execution_count": 2,
   "id": "9884d8bb-27f9-45d6-a6b9-0b8d6186cecb",
   "metadata": {},
   "outputs": [
    {
     "name": "stdout",
     "output_type": "stream",
     "text": [
      "Collecting basemap\n",
      "  Using cached basemap-1.3.6-cp39-cp39-manylinux1_x86_64.whl (864 kB)\n",
      "Collecting pyproj<3.5.0,>=1.9.3\n",
      "  Using cached pyproj-3.4.1-cp39-cp39-manylinux_2_17_x86_64.manylinux2014_x86_64.whl (7.7 MB)\n",
      "Collecting basemap-data<1.4,>=1.3.2\n",
      "  Using cached basemap_data-1.3.2-py2.py3-none-any.whl (30.5 MB)\n",
      "Collecting pyshp<2.4,>=1.2\n",
      "  Using cached pyshp-2.3.1-py2.py3-none-any.whl (46 kB)\n",
      "Collecting numpy<1.24,>=1.22\n",
      "  Using cached numpy-1.23.5-cp39-cp39-manylinux_2_17_x86_64.manylinux2014_x86_64.whl (17.1 MB)\n",
      "Requirement already satisfied: matplotlib<3.7,>=1.5 in /opt/conda/lib/python3.9/site-packages (from basemap) (3.4.3)\n",
      "Requirement already satisfied: kiwisolver>=1.0.1 in /opt/conda/lib/python3.9/site-packages (from matplotlib<3.7,>=1.5->basemap) (1.3.2)\n",
      "Requirement already satisfied: python-dateutil>=2.7 in /opt/conda/lib/python3.9/site-packages (from matplotlib<3.7,>=1.5->basemap) (2.8.2)\n",
      "Requirement already satisfied: pillow>=6.2.0 in /opt/conda/lib/python3.9/site-packages (from matplotlib<3.7,>=1.5->basemap) (8.3.2)\n",
      "Requirement already satisfied: cycler>=0.10 in /opt/conda/lib/python3.9/site-packages (from matplotlib<3.7,>=1.5->basemap) (0.11.0)\n",
      "Requirement already satisfied: pyparsing>=2.2.1 in /opt/conda/lib/python3.9/site-packages (from matplotlib<3.7,>=1.5->basemap) (2.4.7)\n",
      "Requirement already satisfied: certifi in /opt/conda/lib/python3.9/site-packages (from pyproj<3.5.0,>=1.9.3->basemap) (2021.10.8)\n",
      "Requirement already satisfied: six>=1.5 in /opt/conda/lib/python3.9/site-packages (from python-dateutil>=2.7->matplotlib<3.7,>=1.5->basemap) (1.16.0)\n",
      "Installing collected packages: numpy, pyshp, pyproj, basemap-data, basemap\n",
      "  Attempting uninstall: numpy\n",
      "    Found existing installation: numpy 1.20.3\n",
      "    Uninstalling numpy-1.20.3:\n",
      "      Successfully uninstalled numpy-1.20.3\n",
      "\u001b[31mERROR: pip's dependency resolver does not currently take into account all the packages that are installed. This behaviour is the source of the following dependency conflicts.\n",
      "scipy 1.7.1 requires numpy<1.23.0,>=1.16.5, but you have numpy 1.23.5 which is incompatible.\n",
      "numba 0.54.1 requires numpy<1.21,>=1.17, but you have numpy 1.23.5 which is incompatible.\n",
      "asdf 2.7.2 requires jsonschema<4,>=3.0.2, but you have jsonschema 4.2.1 which is incompatible.\u001b[0m\n",
      "Successfully installed basemap-1.3.6 basemap-data-1.3.2 numpy-1.23.5 pyproj-3.4.1 pyshp-2.3.1\n"
     ]
    }
   ],
   "source": [
    "!pip install basemap"
   ]
  },
  {
   "cell_type": "code",
   "execution_count": 9,
   "id": "702e1a71-a0b5-45af-b315-ea8abdc29583",
   "metadata": {},
   "outputs": [
    {
     "name": "stdout",
     "output_type": "stream",
     "text": [
      "Requirement already satisfied: xarray in /opt/conda/lib/python3.9/site-packages (0.20.1)\n",
      "Requirement already satisfied: pandas>=1.1 in /opt/conda/lib/python3.9/site-packages (from xarray) (1.3.4)\n",
      "Requirement already satisfied: numpy>=1.18 in /opt/conda/lib/python3.9/site-packages (from xarray) (1.23.5)\n",
      "Requirement already satisfied: python-dateutil>=2.7.3 in /opt/conda/lib/python3.9/site-packages (from pandas>=1.1->xarray) (2.8.2)\n",
      "Requirement already satisfied: pytz>=2017.3 in /opt/conda/lib/python3.9/site-packages (from pandas>=1.1->xarray) (2021.3)\n",
      "Requirement already satisfied: six>=1.5 in /opt/conda/lib/python3.9/site-packages (from python-dateutil>=2.7.3->pandas>=1.1->xarray) (1.16.0)\n"
     ]
    }
   ],
   "source": [
    "!pip install xarray"
   ]
  },
  {
   "cell_type": "code",
   "execution_count": null,
   "id": "c29af2ed-693f-4fc6-b023-a35540548c0c",
   "metadata": {},
   "outputs": [],
   "source": [
    "import pandas as pd\n",
    "import geopandas as gpd\n",
    "import xarray as xr\n",
    "import matplotlib.pyplot as plt\n",
    "from mpl_toolkits.basemap import Basemap\n",
    "\n",
    "# Download the sea ice concentration data\n",
    "#url = 'https://downloads.psl.noaa.gov/Datasets/noaa.oisst.v2.highres/'\n",
    "file_name = 'icec.day.mean.2022.nc'\n",
    "data_url = url + file_name\n",
    "data = xr.open_dataset(file_name)\n",
    "\n",
    "# Extract the monthly data from the dataset\n",
    "monthly_data = data.sel(time=slice('2022-01-01', '2022-12-31')).groupby('time.month').mean(dim='time')\n",
    "\n",
    "# Define the extent of the map\n",
    "lon_range = [-180, 180]\n",
    "lat_range = [-90, 90]\n",
    "\n",
    "# Create a figure and subplot for each month\n",
    "for month in range(1, 13):\n",
    "    fig, ax = plt.subplots(figsize=(10, 5))\n",
    "\n",
    "    # Create a Basemap object and add coastlines\n",
    "    m = Basemap(projection='cyl', llcrnrlon=lon_range[0], llcrnrlat=lat_range[0],\n",
    "                urcrnrlon=lon_range[1], urcrnrlat=lat_range[1], resolution='c')\n",
    "    m.drawcoastlines()\n",
    "\n",
    "    # Get the sea ice concentration for the current month and plot it on the map\n",
    "    month_data = monthly_data.sel(month=month)\n",
    "    lons, lats = month_data.lon.values, month_data.lat.values\n",
    "    x, y = m(lons, lats)\n",
    "    m.pcolormesh(x, y, month_data.icec.values, cmap='Blues', shading='auto')\n",
    "\n",
    "    # Set the title of the map to the month name\n",
    "    ax.set_title(f'Sea Ice Concentration ({pd.date_range(start=\"2022-01-01\", end=\"2022-12-31\", freq=\"M\")[month-1]:%B})')\n",
    "\n",
    "    # Save the map as a PNG file\n",
    "    #plt.savefig(f'sea_ice_concentration_{pd.date_range(start=\"2022-01-01\", end=\"2022-12-31\", freq=\"M\")[month-1]:%B}.png')"
   ]
  },
  {
   "cell_type": "code",
   "execution_count": null,
   "id": "a2a25c80-c0b3-4e03-bf72-3bef14a0a87e",
   "metadata": {},
   "outputs": [],
   "source": []
  }
 ],
 "metadata": {
  "kernelspec": {
   "display_name": "Python 3 (ipykernel)",
   "language": "python",
   "name": "python3"
  },
  "language_info": {
   "codemirror_mode": {
    "name": "ipython",
    "version": 3
   },
   "file_extension": ".py",
   "mimetype": "text/x-python",
   "name": "python",
   "nbconvert_exporter": "python",
   "pygments_lexer": "ipython3",
   "version": "3.9.7"
  }
 },
 "nbformat": 4,
 "nbformat_minor": 5
}
