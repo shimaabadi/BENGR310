{
 "cells": [
  {
   "cell_type": "markdown",
   "id": "02bb2f20-57cb-4ef0-aa1b-60bf41a2ebfe",
   "metadata": {},
   "source": [
    "# Example 1 - For Loop"
   ]
  },
  {
   "cell_type": "markdown",
   "id": "0f769e61-41e6-4505-952b-74527aa61fe9",
   "metadata": {},
   "source": [
    "Write a Python program that asks the user for a number and prints the multiplication table for that number using a for loop.\n",
    "\n",
    "Requirements:\n",
    "\n",
    "The program should ask the user to input a number.\n",
    "\n",
    "The program should use a for loop to print the multiplication table for that number from 1 to 10.\n",
    "\n",
    "The program should display the output in the following format:"
   ]
  },
  {
   "cell_type": "raw",
   "id": "d2320495-0d3e-46ac-aa0a-c93d31d6cba1",
   "metadata": {},
   "source": [
    "Enter a number: 5\n",
    "5 x 1 = 5\n",
    "5 x 2 = 10\n",
    "5 x 3 = 15\n",
    "5 x 4 = 20\n",
    "5 x 5 = 25\n",
    "5 x 6 = 30\n",
    "5 x 7 = 35\n",
    "5 x 8 = 40\n",
    "5 x 9 = 45\n",
    "5 x 10 = 50\n"
   ]
  },
  {
   "cell_type": "code",
   "execution_count": 1,
   "id": "91b9bf6b-ad01-4596-84d7-7dfd2e8e48c2",
   "metadata": {},
   "outputs": [
    {
     "name": "stdin",
     "output_type": "stream",
     "text": [
      "Enter a number:  2\n"
     ]
    },
    {
     "name": "stdout",
     "output_type": "stream",
     "text": [
      "2 x 1 = 2\n",
      "2 x 2 = 4\n",
      "2 x 3 = 6\n",
      "2 x 4 = 8\n",
      "2 x 5 = 10\n",
      "2 x 6 = 12\n",
      "2 x 7 = 14\n",
      "2 x 8 = 16\n",
      "2 x 9 = 18\n",
      "2 x 10 = 20\n"
     ]
    }
   ],
   "source": [
    "# ask user for input\n",
    "num = int(input(\"Enter a number: \"))\n",
    "\n",
    "# print multiplication table using a for loop\n",
    "for i in range(1, 11):\n",
    "    print(num, \"x\", i, \"=\", num*i)\n"
   ]
  },
  {
   "cell_type": "markdown",
   "id": "015feb72-c0b8-47d1-ad1e-feace41117a5",
   "metadata": {},
   "source": [
    "# Example 2 - Define a Function"
   ]
  },
  {
   "cell_type": "markdown",
   "id": "8406e50f-d887-4208-8ab2-cd7fad8cf3e4",
   "metadata": {},
   "source": [
    "Define a function called rectangle_area that takes two input parameters: length and width. Inside the function, calculate the area of the rectangle using the formula length * width, and assign the result to a local variable area. Then use the return statement to return the value of area back to the calling code.\n",
    "\n",
    "To call the rectangle_area function, we simply provide two arguments to the function that represent the length and width of the rectangle we want to calculate the area for. We store the result of the function call in a variable called area, and then use the print() function to display the result to the user."
   ]
  },
  {
   "cell_type": "code",
   "execution_count": 3,
   "id": "68784400-f48f-4553-8811-3a4ac891cb8a",
   "metadata": {},
   "outputs": [],
   "source": [
    "# Define a function to calculate the area of a rectangle\n",
    "def rectangle_area(length, width):\n",
    "    area = length * width\n",
    "    return area\n"
   ]
  },
  {
   "cell_type": "code",
   "execution_count": 4,
   "id": "e388b84f-7456-4832-98e1-0a418ad27bc1",
   "metadata": {},
   "outputs": [
    {
     "name": "stdout",
     "output_type": "stream",
     "text": [
      "The area of the rectangle is 50\n"
     ]
    }
   ],
   "source": [
    "# Call the function with input arguments and print the result\n",
    "length = 10\n",
    "width = 5\n",
    "area = rectangle_area(length, width)\n",
    "print(\"The area of the rectangle is\", area)"
   ]
  },
  {
   "cell_type": "code",
   "execution_count": null,
   "id": "a9584de9-1da5-45fb-99fd-7d9ab3af8c82",
   "metadata": {},
   "outputs": [],
   "source": []
  }
 ],
 "metadata": {
  "kernelspec": {
   "display_name": "Python 3 (ipykernel)",
   "language": "python",
   "name": "python3"
  },
  "language_info": {
   "codemirror_mode": {
    "name": "ipython",
    "version": 3
   },
   "file_extension": ".py",
   "mimetype": "text/x-python",
   "name": "python",
   "nbconvert_exporter": "python",
   "pygments_lexer": "ipython3",
   "version": "3.9.7"
  }
 },
 "nbformat": 4,
 "nbformat_minor": 5
}
